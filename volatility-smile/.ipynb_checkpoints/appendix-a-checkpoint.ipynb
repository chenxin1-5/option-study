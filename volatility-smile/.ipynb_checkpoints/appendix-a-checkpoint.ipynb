{
 "cells": [
  {
   "cell_type": "markdown",
   "metadata": {},
   "source": [
    "# 附录A：关于布莱克-斯科尔斯-默顿模型的一些有用的推导式\n",
    "\n",
    "BSM价格表达式如下:\n",
    "$$C(S,K,\\tau,\\sigma,r)=SN(d_1)-Ke^{-r\\tau}N(d_2)$$"
   ]
  },
  {
   "cell_type": "markdown",
   "metadata": {},
   "source": [
    "$$d_1=\\frac{\\ln\\left(\\frac{S_F}{K}\\right)+\\frac{\\sigma^2}{2}\\tau}{\\sigma\\sqrt{\\tau}}$$"
   ]
  },
  {
   "cell_type": "markdown",
   "metadata": {},
   "source": [
    "$$d_2=\\frac{\\ln\\left(\\frac{S_F}{K}\\right)-\\frac{\\sigma^2}{2}\\tau}{\\sigma\\sqrt{\\tau}}$$"
   ]
  },
  {
   "cell_type": "markdown",
   "metadata": {},
   "source": [
    "$$S_F=e^{r\\tau}S$$"
   ]
  },
  {
   "cell_type": "markdown",
   "metadata": {},
   "source": [
    "$$N(x)=\\frac{1}{\\sqrt{2\\pi}}\\int_{-\\infty}^{x}{e^{-\\frac{1}{2}y^2}\\mathrm{d}y}$$"
   ]
  },
  {
   "cell_type": "markdown",
   "metadata": {},
   "source": [
    "## 有用的推导式"
   ]
  },
  {
   "cell_type": "markdown",
   "metadata": {},
   "source": [
    "$$N^{\\prime}(x)=\\frac{1}{\\sqrt{2\\pi}}e^{-\\frac{1}{2}x^2}$$"
   ]
  },
  {
   "cell_type": "markdown",
   "metadata": {},
   "source": [
    "$$\\frac{\\partial C}{\\partial\\sigma}=\\frac{1}{\\sqrt{2\\pi}}Se^{-\\frac{1}{2}d_1^2}\\sqrt{\\tau}$$"
   ]
  },
  {
   "cell_type": "markdown",
   "metadata": {},
   "source": [
    "$$KN^{\\prime}(d_2)=S_FN^{\\prime}(d_1)$$"
   ]
  },
  {
   "cell_type": "markdown",
   "metadata": {},
   "source": [
    "$$\\frac{\\partial C}{\\partial S}=N(d_1)$$"
   ]
  },
  {
   "cell_type": "markdown",
   "metadata": {},
   "source": [
    "$$\\frac{\\partial d_{1,2}}{\\partial K}=\\frac{-1}{K\\sigma\\sqrt{\\tau}}$$"
   ]
  },
  {
   "cell_type": "markdown",
   "metadata": {},
   "source": [
    "$$\\frac{\\partial C}{\\partial K}=-e^{-r\\tau}N(d_2)$$"
   ]
  },
  {
   "cell_type": "markdown",
   "metadata": {},
   "source": [
    "$$\\frac{\\partial d_{1,2}}{\\partial\\sigma}=\\frac{-1}{\\sigma^2\\sqrt{\\tau}}\\ln\\left(\\frac{S_F}{K}\\right)\\pm\\frac{1}{2}\\sqrt{\\tau}$$"
   ]
  },
  {
   "cell_type": "markdown",
   "metadata": {},
   "source": [
    "## 证明\n",
    "###  准备"
   ]
  },
  {
   "cell_type": "code",
   "execution_count": 2,
   "metadata": {},
   "outputs": [],
   "source": [
    "import sympy as sy\n",
    "import sympy.stats as systats\n",
    "sy.init_printing()"
   ]
  },
  {
   "cell_type": "code",
   "execution_count": 3,
   "metadata": {},
   "outputs": [],
   "source": [
    "S, K, tau, sigma, r = sy.symbols(\"S K tau sigma r\")\n",
    "def S_F(tau, r, s):\n",
    "    return sy.exp(tau*r)*s\n",
    "def d1(S, K, tau, sigma, r):\n",
    "    return (sy.ln(S_F(tau, r, S) / K) + 1/2 * sigma ** 2 * tau) / (sigma * sy.sqrt(tau))\n",
    "def d2(S, K, tau, sigma, r):\n",
    "    return (sy.ln(S_F(tau, r, S) / K) - 1/2 * sigma ** 2 * tau) / (sigma * sy.sqrt(tau))\n",
    "def N(x):\n",
    "    y = sy.Symbol('y')\n",
    "    return 1/sy.sqrt(2*sy.pi)*sy.Integral(sy.exp(-0.5*y**2), (y, -sy.oo , x))\n",
    "def C(S, K, tau, sigma, r):\n",
    "    return S*N(d1(S, K, tau, sigma, r))-K*sy.exp(-r*tau)*N(d2(S, K, tau, sigma, r))"
   ]
  },
  {
   "cell_type": "markdown",
   "metadata": {},
   "source": [
    "### 1. $$N(x)=\\frac{1}{\\sqrt{2\\pi}}\\int_{-\\infty}^{x}{e^{-\\frac{1}{2}y^2}\\mathrm{d}y}$$"
   ]
  },
  {
   "cell_type": "code",
   "execution_count": 4,
   "metadata": {},
   "outputs": [
    {
     "data": {
      "image/png": "[encoded data removed]",
      "text/latex": [
       "$$\\frac{\\sqrt{2} \\int_{-\\infty}^{x} e^{- 0.5 y^{2}}\\, dy}{2 \\sqrt{\\pi}}$$"
      ],
      "text/plain": [
       "   x             \n",
       "   ⌠             \n",
       "   ⎮         2   \n",
       "   ⎮   -0.5⋅y    \n",
       "√2⋅⎮  ℯ        dy\n",
       "   ⌡             \n",
       "   -∞            \n",
       "─────────────────\n",
       "       2⋅√π      "
      ]
     },
     "execution_count": 4,
     "metadata": {},
     "output_type": "execute_result"
    }
   ],
   "source": [
    "x = sy.Symbol(\"x\")\n",
    "N(x)"
   ]
  },
  {
   "cell_type": "markdown",
   "metadata": {},
   "source": [
    "### 2. $$N^{\\prime}(x)=\\frac{1}{\\sqrt{2\\pi}}e^{-\\frac{1}{2}x^2}$$"
   ]
  },
  {
   "cell_type": "code",
   "execution_count": 5,
   "metadata": {},
   "outputs": [
    {
     "data": {
      "image/png": "[encoded data removed]",
      "text/latex": [
       "$$\\frac{\\sqrt{2} \\left(\\int_{-\\infty}^{x} 0\\, dy + e^{- 0.5 x^{2}}\\right)}{2 \\sqrt{\\pi}}$$"
      ],
      "text/plain": [
       "   ⎛x                2⎞\n",
       "   ⎜⌠          -0.5⋅x ⎟\n",
       "√2⋅⎜⎮  0 dy + ℯ       ⎟\n",
       "   ⎜⌡                 ⎟\n",
       "   ⎝-∞                ⎠\n",
       "───────────────────────\n",
       "          2⋅√π         "
      ]
     },
     "execution_count": 5,
     "metadata": {},
     "output_type": "execute_result"
    }
   ],
   "source": [
    "sy.diff(N(x),x)"
   ]
  },
  {
   "cell_type": "markdown",
   "metadata": {},
   "source": [
    "### 3.  $$KN^{\\prime}(d_2)=S_FN^{\\prime}(d_1)$$"
   ]
  },
  {
   "cell_type": "code",
   "execution_count": 6,
   "metadata": {},
   "outputs": [
    {
     "data": {
      "image/png": "[encoded data removed]",
      "text/latex": [
       "$$\\frac{\\sqrt{2} e^{- 0.5 x^{2}}}{2 \\sqrt{\\pi}}$$"
      ],
      "text/plain": [
       "          2\n",
       "    -0.5⋅x \n",
       "√2⋅ℯ       \n",
       "───────────\n",
       "    2⋅√π   "
      ]
     },
     "execution_count": 6,
     "metadata": {},
     "output_type": "execute_result"
    }
   ],
   "source": [
    "def Nprime(x):\n",
    "    return 1/sy.sqrt(2*sy.pi)*sy.exp(-1/2*x**2)\n",
    "Nprime(x)"
   ]
  },
  {
   "cell_type": "code",
   "execution_count": 7,
   "metadata": {},
   "outputs": [
    {
     "data": {
      "image/png": "[encoded data removed]",
      "text/latex": [
       "$$\\frac{\\sqrt{2} K e^{- \\frac{0.5 \\left(- 0.5 \\sigma^{2} \\tau + \\log{\\left (\\frac{S e^{r \\tau}}{K} \\right )}\\right)^{2}}{\\sigma^{2} \\tau}}}{2 \\sqrt{\\pi}}$$"
      ],
      "text/plain": [
       "                                     2 \n",
       "           ⎛                ⎛   r⋅τ⎞⎞  \n",
       "           ⎜       2        ⎜S⋅ℯ   ⎟⎟  \n",
       "      -0.5⋅⎜- 0.5⋅σ ⋅τ + log⎜──────⎟⎟  \n",
       "           ⎝                ⎝  K   ⎠⎠  \n",
       "      ─────────────────────────────────\n",
       "                      2                \n",
       "                     σ ⋅τ              \n",
       "√2⋅K⋅ℯ                                 \n",
       "───────────────────────────────────────\n",
       "                  2⋅√π                 "
      ]
     },
     "execution_count": 7,
     "metadata": {},
     "output_type": "execute_result"
    }
   ],
   "source": [
    "K*Nprime(d2(S, K, tau, sigma, r))"
   ]
  },
  {
   "cell_type": "code",
   "execution_count": 9,
   "metadata": {},
   "outputs": [
    {
     "data": {
      "image/png": "[encoded data removed]",
      "text/latex": [
       "$$\\frac{\\sqrt{2} S e^{r \\tau} e^{- \\frac{0.5 \\left(0.5 \\sigma^{2} \\tau + \\log{\\left (\\frac{S e^{r \\tau}}{K} \\right )}\\right)^{2}}{\\sigma^{2} \\tau}}}{2 \\sqrt{\\pi}}$$"
      ],
      "text/plain": [
       "                                        2 \n",
       "                ⎛              ⎛   r⋅τ⎞⎞  \n",
       "                ⎜     2        ⎜S⋅ℯ   ⎟⎟  \n",
       "           -0.5⋅⎜0.5⋅σ ⋅τ + log⎜──────⎟⎟  \n",
       "                ⎝              ⎝  K   ⎠⎠  \n",
       "           ───────────────────────────────\n",
       "                          2               \n",
       "      r⋅τ                σ ⋅τ             \n",
       "√2⋅S⋅ℯ   ⋅ℯ                               \n",
       "──────────────────────────────────────────\n",
       "                   2⋅√π                   "
      ]
     },
     "execution_count": 9,
     "metadata": {},
     "output_type": "execute_result"
    }
   ],
   "source": [
    "S*sy.exp(r*tau)*Nprime(d1(S, K, tau, sigma, r))"
   ]
  },
  {
   "cell_type": "markdown",
   "metadata": {},
   "source": [
    "$$KN^\\prime(d_2)=\\frac{K}{\\sqrt{2\\pi}}e^{-\\frac{1}{2}d_2^2}=\\frac{K}{\\sqrt{2\\pi}}e^{-\\frac{1}{2}\\frac{\\left[\\ln\\left(\\frac{S_F}{K}\\right)-\\frac{\\sigma^2}{2}\\tau\\right]^2}{\\sigma^2\\tau}}$$"
   ]
  },
  {
   "cell_type": "markdown",
   "metadata": {},
   "source": [
    "$$S_FN^\\prime(d_1)=\\frac{S_F}{\\sqrt{2\\pi}}e^{-\\frac{1}{2}d_1^2}=\\frac{S_F}{\\sqrt{2\\pi}}e^{-\\frac{1}{2}\\frac{\\left[\\ln\\left(\\frac{S_F}{K}\\right)+\\frac{\\sigma^2}{2}\\tau\\right]^2}{\\sigma^2\\tau}}$$"
   ]
  },
  {
   "cell_type": "code",
   "execution_count": 11,
   "metadata": {},
   "outputs": [
    {
     "data": {
      "image/png": "[encoded data removed]",
      "text/latex": [
       "$$\\frac{K \\left(\\frac{S e^{r \\tau}}{K}\\right)^{1.0} e^{- r \\tau}}{S}$$"
      ],
      "text/plain": [
       "          1.0      \n",
       "  ⎛   r⋅τ⎞         \n",
       "  ⎜S⋅ℯ   ⎟     -r⋅τ\n",
       "K⋅⎜──────⎟   ⋅ℯ    \n",
       "  ⎝  K   ⎠         \n",
       "───────────────────\n",
       "         S         "
      ]
     },
     "execution_count": 11,
     "metadata": {},
     "output_type": "execute_result"
    }
   ],
   "source": [
    "sy.simplify(K*Nprime(d2(S, K, tau, sigma, r))/(S*sy.exp(r*tau)*Nprime(d1(S, K, tau, sigma, r))))"
   ]
  },
  {
   "cell_type": "markdown",
   "metadata": {},
   "source": [
    "$$\\frac{KN^\\prime(d_2)}{S_FN^\\prime(d_1)}=\\frac{K}{S_F}e^{\\frac{1}{2}\\frac{2\\ln{\\left(\\frac{S_F}{K}\\right)}\\sigma^2\\tau}{\\sigma^2\\tau}}=1$$"
   ]
  },
  {
   "cell_type": "markdown",
   "metadata": {},
   "source": [
    "### 4. $$\\frac{\\partial d_{1,2}}{\\partial\\sigma}=\\frac{-1}{\\sigma^2\\sqrt{\\tau}}\\ln\\left(\\frac{S_F}{K}\\right)\\pm\\frac{1}{2}\\sqrt{\\tau}$$"
   ]
  },
  {
   "cell_type": "code",
   "execution_count": 12,
   "metadata": {},
   "outputs": [
    {
     "data": {
      "image/png": "[encoded data removed]",
      "text/latex": [
       "$$1.0 \\sqrt{\\tau} - \\frac{0.5 \\sigma^{2} \\tau + \\log{\\left (\\frac{S e^{r \\tau}}{K} \\right )}}{\\sigma^{2} \\sqrt{\\tau}}$$"
      ],
      "text/plain": [
       "                       ⎛   r⋅τ⎞\n",
       "              2        ⎜S⋅ℯ   ⎟\n",
       "         0.5⋅σ ⋅τ + log⎜──────⎟\n",
       "                       ⎝  K   ⎠\n",
       "1.0⋅√τ - ──────────────────────\n",
       "                  2            \n",
       "                 σ ⋅√τ         "
      ]
     },
     "execution_count": 12,
     "metadata": {},
     "output_type": "execute_result"
    }
   ],
   "source": [
    "sy.diff(d1(S, K, tau, sigma, r), sigma)"
   ]
  },
  {
   "cell_type": "code",
   "execution_count": 13,
   "metadata": {},
   "outputs": [
    {
     "data": {
      "image/png": "[encoded data removed]",
      "text/latex": [
       "$$- 1.0 \\sqrt{\\tau} - \\frac{- 0.5 \\sigma^{2} \\tau + \\log{\\left (\\frac{S e^{r \\tau}}{K} \\right )}}{\\sigma^{2} \\sqrt{\\tau}}$$"
      ],
      "text/plain": [
       "                          ⎛   r⋅τ⎞\n",
       "                 2        ⎜S⋅ℯ   ⎟\n",
       "          - 0.5⋅σ ⋅τ + log⎜──────⎟\n",
       "                          ⎝  K   ⎠\n",
       "-1.0⋅√τ - ────────────────────────\n",
       "                    2             \n",
       "                   σ ⋅√τ          "
      ]
     },
     "execution_count": 13,
     "metadata": {},
     "output_type": "execute_result"
    }
   ],
   "source": [
    "sy.diff(d2(S, K, tau, sigma, r), sigma)"
   ]
  },
  {
   "cell_type": "markdown",
   "metadata": {},
   "source": [
    "### 5. $$\\frac{\\partial C}{\\partial\\sigma}=\\frac{1}{\\sqrt{2\\pi}}Se^{-\\frac{1}{2}d_1^2}\\sqrt{\\tau}$$"
   ]
  },
  {
   "cell_type": "code",
   "execution_count": 72,
   "metadata": {},
   "outputs": [
    {
     "data": {
      "image/png": "[encoded data removed]",
      "text/latex": [
       "$$- \\frac{\\sqrt{2} K \\left(\\left(- 1.0 \\sqrt{\\tau} - \\frac{- 0.5 \\sigma^{2} \\tau + \\log{\\left (\\frac{S e^{r \\tau}}{K} \\right )}}{\\sigma^{2} \\sqrt{\\tau}}\\right) e^{- \\frac{0.5 \\left(- 0.5 \\sigma^{2} \\tau + \\log{\\left (\\frac{S e^{r \\tau}}{K} \\right )}\\right)^{2}}{\\sigma^{2} \\tau}} + \\int_{-\\infty}^{\\frac{- 0.5 \\sigma^{2} \\tau + \\log{\\left (\\frac{S e^{r \\tau}}{K} \\right )}}{\\sigma \\sqrt{\\tau}}} 0\\, dy\\right) e^{- r \\tau}}{2 \\sqrt{\\pi}} + \\frac{\\sqrt{2} S \\left(\\left(1.0 \\sqrt{\\tau} - \\frac{0.5 \\sigma^{2} \\tau + \\log{\\left (\\frac{S e^{r \\tau}}{K} \\right )}}{\\sigma^{2} \\sqrt{\\tau}}\\right) e^{- \\frac{0.5 \\left(0.5 \\sigma^{2} \\tau + \\log{\\left (\\frac{S e^{r \\tau}}{K} \\right )}\\right)^{2}}{\\sigma^{2} \\tau}} + \\int_{-\\infty}^{\\frac{0.5 \\sigma^{2} \\tau + \\log{\\left (\\frac{S e^{r \\tau}}{K} \\right )}}{\\sigma \\sqrt{\\tau}}} 0\\, dy\\right)}{2 \\sqrt{\\pi}}$$"
      ],
      "text/plain": [
       "       ⎛                                                                     2\n",
       "       ⎜                                           ⎛                ⎛   r⋅τ⎞⎞ \n",
       "       ⎜                                           ⎜       2        ⎜S⋅ℯ   ⎟⎟ \n",
       "       ⎜                                      -0.5⋅⎜- 0.5⋅σ ⋅τ + log⎜──────⎟⎟ \n",
       "       ⎜⎛                          ⎛   r⋅τ⎞⎞       ⎝                ⎝  K   ⎠⎠ \n",
       "       ⎜⎜                 2        ⎜S⋅ℯ   ⎟⎟  ────────────────────────────────\n",
       "       ⎜⎜          - 0.5⋅σ ⋅τ + log⎜──────⎟⎟                  2               \n",
       "       ⎜⎜                          ⎝  K   ⎠⎟                 σ ⋅τ             \n",
       "  √2⋅K⋅⎜⎜-1.0⋅√τ - ────────────────────────⎟⋅ℯ                                \n",
       "       ⎜⎜                    2             ⎟                                  \n",
       "       ⎝⎝                   σ ⋅√τ          ⎠                                  \n",
       "- ────────────────────────────────────────────────────────────────────────────\n",
       "                                                          2⋅√π                \n",
       "\n",
       "                                 ⎞              ⎛                             \n",
       "                    ⎛   r⋅τ⎞     ⎟              ⎜                             \n",
       "           2        ⎜S⋅ℯ   ⎟     ⎟              ⎜                             \n",
       "    - 0.5⋅σ ⋅τ + log⎜──────⎟     ⎟              ⎜                             \n",
       "                    ⎝  K   ⎠     ⎟              ⎜⎛                       ⎛   r\n",
       "─   ────────────────────────     ⎟              ⎜⎜              2        ⎜S⋅ℯ \n",
       "              σ⋅√τ               ⎟              ⎜⎜         0.5⋅σ ⋅τ + log⎜────\n",
       "               ⌠                 ⎟  -r⋅τ        ⎜⎜                       ⎝  K \n",
       "  +            ⎮             0 dy⎟⋅ℯ       √2⋅S⋅⎜⎜1.0⋅√τ - ───────────────────\n",
       "               ⌡                 ⎟              ⎜⎜                  2         \n",
       "               -∞                ⎠              ⎝⎝                 σ ⋅√τ      \n",
       "──────────────────────────────────────── + ───────────────────────────────────\n",
       "                                                                              \n",
       "\n",
       "                                   2                               ⎞\n",
       "           ⎛              ⎛   r⋅τ⎞⎞                   ⎛   r⋅τ⎞     ⎟\n",
       "           ⎜     2        ⎜S⋅ℯ   ⎟⎟          2        ⎜S⋅ℯ   ⎟     ⎟\n",
       "      -0.5⋅⎜0.5⋅σ ⋅τ + log⎜──────⎟⎟     0.5⋅σ ⋅τ + log⎜──────⎟     ⎟\n",
       "⋅τ⎞⎞       ⎝              ⎝  K   ⎠⎠                   ⎝  K   ⎠     ⎟\n",
       "  ⎟⎟  ───────────────────────────────   ──────────────────────     ⎟\n",
       "──⎟⎟                 2                           σ⋅√τ              ⎟\n",
       "  ⎠⎟                σ ⋅τ                          ⌠                ⎟\n",
       "───⎟⋅ℯ                                +           ⎮            0 dy⎟\n",
       "   ⎟                                              ⌡                ⎟\n",
       "   ⎠                                              -∞               ⎠\n",
       "────────────────────────────────────────────────────────────────────\n",
       "               2⋅√π                                                 "
      ]
     },
     "execution_count": 72,
     "metadata": {},
     "output_type": "execute_result"
    }
   ],
   "source": [
    "sy.diff(C(S, K, tau, sigma, r), sigma)"
   ]
  },
  {
   "cell_type": "markdown",
   "metadata": {},
   "source": [
    "$$d_1=\\frac{\\ln\\left(\\frac{S_F}{K}\\right)+\\frac{\\sigma^2}{2}\\tau}{\\sigma\\sqrt{\\tau}}$$\n",
    "$$d_2=\\frac{\\ln\\left(\\frac{S_F}{K}\\right)-\\frac{\\sigma^2}{2}\\tau}{\\sigma\\sqrt{\\tau}}$$"
   ]
  },
  {
   "cell_type": "markdown",
   "metadata": {},
   "source": [
    "$$\\frac{Ke^{-r\\tau}\\sqrt{\\tau}}{\\sqrt{2\\pi}}(1+\\frac{d_2}{\\sigma\\sqrt{\\tau}})e^{-\\frac{1}{2}d_2^2}+\\frac{S\\sqrt{\\tau}}{\\sqrt{2\\pi}}(1-\\frac{d_1}{\\sigma\\sqrt{\\tau}})e^{-\\frac{1}{2}d_1^2}$$"
   ]
  },
  {
   "cell_type": "markdown",
   "metadata": {},
   "source": [
    "$$C(S,K,\\tau,\\sigma,r)=SN(d_1)-Ke^{-r\\tau}N(d_2)$$"
   ]
  },
  {
   "cell_type": "markdown",
   "metadata": {},
   "source": [
    "$$\\frac{\\partial C(S,K,\\tau,\\sigma,r)}{\\partial\\sigma}=SN^\\prime(d_1)\\frac{\\partial d_1}{\\partial\\sigma}-Ke^{-r\\tau}N^\\prime(d_2)\\frac{\\partial d_2}{\\partial\\sigma}=SN^\\prime(d_1)\\left(\\frac{\\partial d_1}{\\partial\\sigma}-\\frac{\\partial d_2}{\\partial\\sigma}\\right)$$"
   ]
  },
  {
   "cell_type": "markdown",
   "metadata": {},
   "source": [
    "$$\\frac{\\partial d_{1,2}}{\\partial\\sigma}=\\frac{-1}{\\sigma^2\\sqrt{\\tau}}\\ln\\left(\\frac{S_F}{K}\\right)\\pm\\frac{1}{2}\\sqrt{\\tau}$$"
   ]
  },
  {
   "cell_type": "markdown",
   "metadata": {},
   "source": [
    "$$\\frac{\\partial C(S,K,\\tau,\\sigma,r)}{\\partial\\sigma}=SN^\\prime(d_1)\\sqrt{\\tau}=\\frac{1}{\\sqrt{2\\pi}}Se^{-\\frac{1}{2}d_1^2}\\sqrt{\\tau}$$"
   ]
  },
  {
   "cell_type": "markdown",
   "metadata": {},
   "source": [
    "### 6.  $$\\frac{\\partial d_{1,2}}{\\partial K}=\\frac{-1}{K\\sigma\\sqrt{\\tau}}$$"
   ]
  },
  {
   "cell_type": "code",
   "execution_count": 14,
   "metadata": {},
   "outputs": [
    {
     "data": {
      "image/png": "[encoded data removed]",
      "text/latex": [
       "$$- \\frac{1}{K \\sigma \\sqrt{\\tau}}$$"
      ],
      "text/plain": [
       " -1   \n",
       "──────\n",
       "K⋅σ⋅√τ"
      ]
     },
     "execution_count": 14,
     "metadata": {},
     "output_type": "execute_result"
    }
   ],
   "source": [
    "sy.diff(d1(S, K, tau, sigma, r), K)"
   ]
  },
  {
   "cell_type": "code",
   "execution_count": 16,
   "metadata": {},
   "outputs": [
    {
     "data": {
      "image/png": "[encoded data removed]",
      "text/latex": [
       "$$- \\frac{1}{K \\sigma \\sqrt{\\tau}}$$"
      ],
      "text/plain": [
       " -1   \n",
       "──────\n",
       "K⋅σ⋅√τ"
      ]
     },
     "execution_count": 16,
     "metadata": {},
     "output_type": "execute_result"
    }
   ],
   "source": [
    "sy.diff(d2(S, K, tau, sigma, r), K)"
   ]
  },
  {
   "cell_type": "markdown",
   "metadata": {},
   "source": [
    "### 7. $$\\frac{\\partial C}{\\partial S}=N(d_1)$$"
   ]
  },
  {
   "cell_type": "markdown",
   "metadata": {},
   "source": [
    "$$\\frac{\\partial C(S,K,\\tau,\\sigma,r)}{\\partial S}=N(d_1)+SN^\\prime(d_1)\\frac{\\partial d_1}{\\partial S}-Ke^{-r\\tau}N^\\prime(d_2)\\frac{\\partial d_2}{\\partial S}=N(d_1)$$"
   ]
  },
  {
   "cell_type": "markdown",
   "metadata": {},
   "source": [
    "### 8. $$\\frac{\\partial C}{\\partial K}=-e^{-r\\tau}N(d_2)$$"
   ]
  },
  {
   "cell_type": "markdown",
   "metadata": {},
   "source": [
    "$$\\frac{\\partial C(S,K,\\tau,\\sigma,r)}{\\partial K}=SN^\\prime(d_1)\\frac{\\partial d_1}{\\partial K}-Ke^{-r\\tau}N^\\prime(d_2)\\frac{\\partial d_2}{\\partial K}-e^{-r\\tau}N(d_2)=-e^{-r\\tau}N(d_2)$$"
   ]
  }
 ],
 "metadata": {
  "kernelspec": {
   "display_name": "Python 3",
   "language": "python",
   "name": "python3"
  },
  "language_info": {
   "codemirror_mode": {
    "name": "ipython",
    "version": 3
   },
   "file_extension": ".py",
   "mimetype": "text/x-python",
   "name": "python",
   "nbconvert_exporter": "python",
   "pygments_lexer": "ipython3",
   "version": "3.6.0"
  }
 },
 "nbformat": 4,
 "nbformat_minor": 2
}
