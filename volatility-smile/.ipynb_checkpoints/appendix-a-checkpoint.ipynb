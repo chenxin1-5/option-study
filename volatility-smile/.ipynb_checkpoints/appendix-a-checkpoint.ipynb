{
 "cells": [
  {
   "cell_type": "markdown",
   "metadata": {},
   "source": [
    "# 附录A：关于布莱克-斯科尔斯-默顿模型的一些有用的推导式\n",
    "\n",
    "BSM价格表达式如下:\n",
    "$$C(S,K,\\tau,\\sigma,r)=SN(d_1)-Ke^{-r\\tau}N(d_2)$$"
   ]
  },
  {
   "cell_type": "markdown",
   "metadata": {},
   "source": [
    "$$d_1=\\frac{\\ln\\left(\\frac{S_F}{K}\\right)+\\frac{\\sigma^2}{2}\\tau}{\\sigma\\sqrt{\\tau}}$$"
   ]
  },
  {
   "cell_type": "markdown",
   "metadata": {},
   "source": [
    "$$d_2=\\frac{\\ln\\left(\\frac{S_F}{K}\\right)-\\frac{\\sigma^2}{2}\\tau}{\\sigma\\sqrt{\\tau}}$$"
   ]
  },
  {
   "cell_type": "markdown",
   "metadata": {},
   "source": [
    "$$S_F=e^{r\\tau}S$$"
   ]
  },
  {
   "cell_type": "markdown",
   "metadata": {},
   "source": [
    "$$N(x)=\\frac{1}{\\sqrt{2\\pi}}\\int_{-\\infty}^{x}{e^{-\\frac{1}{2}y^2}\\mathrm{d}y}$$"
   ]
  },
  {
   "cell_type": "markdown",
   "metadata": {},
   "source": [
    "## 有用的推导式"
   ]
  },
  {
   "cell_type": "markdown",
   "metadata": {},
   "source": [
    "$$N^{\\prime}(x)=\\frac{1}{\\sqrt{2\\pi}}e^{-\\frac{1}{2}x^2}$$"
   ]
  },
  {
   "cell_type": "markdown",
   "metadata": {},
   "source": [
    "$$\\frac{\\partial C}{\\partial\\sigma}=\\frac{1}{\\sqrt{2\\pi}}Se^{-\\frac{1}{2}d_1^2}\\sqrt{\\tau}$$"
   ]
  },
  {
   "cell_type": "markdown",
   "metadata": {},
   "source": [
    "$$KN^{\\prime}(d_2)=S_FN^{\\prime}(d_1)$$"
   ]
  },
  {
   "cell_type": "markdown",
   "metadata": {},
   "source": [
    "$$\\frac{\\partial C}{\\partial S}=N(d_1)$$"
   ]
  },
  {
   "cell_type": "markdown",
   "metadata": {},
   "source": [
    "$$\\frac{\\partial d_{1,2}}{\\partial K}=\\frac{-1}{K\\sigma\\sqrt{\\tau}}$$"
   ]
  },
  {
   "cell_type": "markdown",
   "metadata": {},
   "source": [
    "$$\\frac{\\partial C}{\\partial K}=-e^{-r\\tau}N(d_2)$$"
   ]
  },
  {
   "cell_type": "markdown",
   "metadata": {},
   "source": [
    "$$\\frac{\\partial d_{1,2}}{\\partial\\sigma}=\\frac{-1}{\\sigma^2\\sqrt{\\tau}}\\ln\\left(\\frac{S_F}{K}\\right)\\pm\\frac{1}{2}\\sqrt{\\tau}$$"
   ]
  }
 ],
 "metadata": {
  "kernelspec": {
   "display_name": "Python 3",
   "language": "python",
   "name": "python3"
  },
  "language_info": {
   "codemirror_mode": {
    "name": "ipython",
    "version": 3
   },
   "file_extension": ".py",
   "mimetype": "text/x-python",
   "name": "python",
   "nbconvert_exporter": "python",
   "pygments_lexer": "ipython3",
   "version": "3.6.0"
  }
 },
 "nbformat": 4,
 "nbformat_minor": 2
}
