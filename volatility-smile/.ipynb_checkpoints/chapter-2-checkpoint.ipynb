{
 "cells": [
  {
   "cell_type": "markdown",
   "metadata": {},
   "source": [
    "# 第2章 复制的原则"
   ]
  },
  {
   "cell_type": "markdown",
   "metadata": {},
   "source": [
    "## 一价定律\n",
    "\n",
    "不管出现什么情况，未来两个证券的回报都是一样的，那么这两个证券当前的价格也应该是一样的。一价定律指出的是，市场厌恶套利机会。\n",
    "在实践中，我们很难构建一个完美的组合满足一价定律，只能做到在大多数情况下，近似地模拟另一只证券。"
   ]
  },
  {
   "cell_type": "markdown",
   "metadata": {},
   "source": [
    "## 复制\n",
    "\n",
    "复制是证券估值时唯一靠得住的方法。复制分为两种：\n",
    "* 静态复制：组合权重一开始就确定，并保持不变。\n",
    "* 动态复制：复制组合的成分和权重需要不断调整。\n",
    "静态复制是最简单，也是最直观的估值方法，但适用范围很窄，因为很难用高流动性的证券复制出目标证券的收益。动态复制非常优美，几乎所有衍生品行业的创新都是基于这一思想。\n",
    "\n",
    "复制的局限性：\n",
    "* 由于在金融市场难以完全精确描述资产的状况，所以需要选择复杂度恰到好处的金融模型\n",
    "* 复制组合基本是一个工程活动\n",
    "    * 买卖价差、流动性、市场冲击的影响\n",
    "\t* 买卖的滑点\n",
    "\t* 融券、交易成本\n",
    "\t* 动态对冲需要预测某些核心参数，尤其是期权资产的波动率\n",
    "\n",
    "如果可行，先用静态复制，否则用动态复制。如果在实践中，市场没有复制策略的话，只能求助于经济学模型。通常需要假设市场参与者的效用函数——效用函数是经济学理论的隐藏变量，量化的方法从来都发现不了。"
   ]
  },
  {
   "cell_type": "markdown",
   "metadata": {},
   "source": [
    "标的资产的风险建模\n",
    "有效市场假设：长期看，投资者不可能战胜市场，因为当前的价格已经反映了所有经济信息和市场信息。\n",
    "股票回报的二叉树模型：设预期回报为$\\mu$，回报波动率$\\sigma$，以及短期时间$\\Delta t$。当$\\Delta t\\to0$时，可以得到回报在t时间内服从正态分布，平均总回报为$\\mu t$，回报的标准差为$\\sigma\\sqrt{t}$ 。\n",
    "3种改变或者避免风险的方法：稀释、分散及对冲。故一价定律可以改写为：完全相同且无法避免的风险对应着相同的预期回报。\n",
    "\n",
    "衡量超额回报与其波动率的比值，夏普比率：\n",
    "$$ \\lambda = \\frac{\\mu - r}{\\sigma} $$\n",
    "理性的投资人倾向于夏普比率高的投资。夏普比率是有单位的，单位是(年)^(-1/2)。"
   ]
  },
  {
   "cell_type": "markdown",
   "metadata": {},
   "source": [
    "一价定律要求所有互不相关证券的夏普比率都是相等的。\n",
    "\n",
    "如果有$n$个证券，那么组合的波动率就是$\\frac{\\sigma}{\\sqrt{n}}$。当有无穷多个互不相关的证券时，每个证券的夏普比率为0。这一结论与资本资产定价模型(CAPM)相一致。"
   ]
  },
  {
   "cell_type": "markdown",
   "metadata": {},
   "source": [
    "设$S_i$为第$i$个股票的价值，预期回报和波动率分别为$\\mu_i$和$\\sigma_i$，$M$为市场因子的证券价值，其预期回报和波动率分别为$\\mu_M$和$\\sigma_M$。用$\\rho_i$表示第$i$个股票和$M$之间的相关系数。\n",
    "\n",
    "对第$i$个股票，为了构造市场中性组合，需要卖空的证券$M$的份数为：\n",
    "$$\\Delta_i=\\rho_i\\frac{\\sigma_i}{\\sigma_M}\\frac{S_i}{M}=\\beta_i\\frac{S_i}{M}$$\n",
    "其中：\n",
    "$$\\beta_i=\\rho_i\\frac{\\sigma_i}{\\sigma_M}$$\n",
    "\n",
    "第$i$个股票的市场中性组合表示为$\\widetilde{S_i}$，则：$\\widetilde{S_i}=S_i−\\Delta_{i}M$。\n",
    "\n",
    "其预期回报为：\n",
    "\n",
    "$$ \\widetilde{\\mu_i}=\\frac{\\mu_{i}S_i−\\beta_{i}S_{i}\\mu_M}{\\widetilde{S_i}} =\\frac{\\mu_i−\\beta_{i}\\mu_M}{1−\\beta_i}$$\n",
    "\n",
    "当股票数$n\\to+\\infty$时，$\\widetilde{S_i}$没有超额回报，其回报都是无风险利率$r$，即$\\widetilde{\\mu_i}=r$。得到：\n",
    "$$\\mu_i−r=\\beta_i(\\mu_M−r)$$\n",
    "\n",
    "这就是Sharpe-Lintner-Mossin资本定价模型。"
   ]
  },
  {
   "cell_type": "markdown",
   "metadata": {},
   "source": [
    "## 通过一价定律复制衍生品\n",
    "\n",
    "一个看涨期权可以通过持续交易标的资产和无风险债券来复制。"
   ]
  }
 ],
 "metadata": {
  "kernelspec": {
   "display_name": "Python 3",
   "language": "python",
   "name": "python3"
  },
  "language_info": {
   "codemirror_mode": {
    "name": "ipython",
    "version": 3
   },
   "file_extension": ".py",
   "mimetype": "text/x-python",
   "name": "python",
   "nbconvert_exporter": "python",
   "pygments_lexer": "ipython3",
   "version": "3.6.0"
  }
 },
 "nbformat": 4,
 "nbformat_minor": 2
}
