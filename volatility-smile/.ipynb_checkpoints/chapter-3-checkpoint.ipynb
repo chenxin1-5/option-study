{
 "cells": [
  {
   "cell_type": "markdown",
   "metadata": {},
   "source": [
    "# 第3章 静态复制和动态复制\n",
    "\n",
    "这章讨论了无风险收益率为0时的BSM模型。尤其是关于凸性的讨论很有价值。"
   ]
  },
  {
   "cell_type": "markdown",
   "metadata": {},
   "source": [
    "## 复制的深入研究\n",
    "\n",
    "看涨-看跌期权平价\n",
    "$$C(S,t)=P(S,t)+S−Ke^{−r(T−t)}$$\n",
    "$$P(S,t)=C(S,t)−S+Ke^{−r(T−t)}$$\n",
    "\n",
    "领口策略的价值\n",
    "$$V=S+P_{L}(S,t)−C_{U}(S,t)$$\n",
    "$$V=Le^{−r(T−t)}+C_{L}(S,t)−C_{U}(S,t)$$"
   ]
  },
  {
   "cell_type": "markdown",
   "metadata": {},
   "source": [
    "## 欧式期权的完全静态复制\n",
    "\n",
    "$$ V(t)=Ie^{−r(T−t)}+\\lambda_0S_T+(\\lambda_1−\\lambda_0)C(K_0)+(\\lambda_2−\\lambda_1)C(K_1)+\\cdots$$\n",
    "\n",
    "在T时刻，股票价值为$S_T$，组合的价值：\n",
    "\n",
    "$$V(T)=I+\\lambda_0K_0+\\lambda_1(K_1−K_0)+\\lambda_2(S_T−K_1)$$"
   ]
  },
  {
   "cell_type": "markdown",
   "metadata": {},
   "source": [
    "## 动态复制和连续delta对冲\n",
    "\n",
    "根据二叉树模型，股票价格为$S$，波动率是$\\sigma$。在$dt$时间内，无论上涨或者下跌，股票价值变化都可表示为:\n",
    "$$\\mathrm{d}S=\\pm\\sigma S\\sqrt{\\mathrm{d}t}$$\n",
    "\n",
    "于是得到\n",
    "$$\\mathrm{d}S^2=\\sigma^2S^2\\mathrm{d}t$$"
   ]
  },
  {
   "cell_type": "markdown",
   "metadata": {},
   "source": [
    "> 注：此处用到了[Hull-White](https://en.wikipedia.org/wiki/Hull%E2%80%93White_model)模型。\n",
    "> $$\\mu\\Delta t=E\\left[{\\frac{S}{S_0}−1}\\right]=E\\left[\\frac{\\Delta S}{S_0}\\right] $$\n",
    "> $$\\sigma^2\\Delta t=E\\left[\\left({\\frac{S}{S_0}−1−\\mu\\Delta t}\\right)^2\\right]$$\n",
    ">\n",
    "> 实际数据对$\\mu$和的$\\sigma$估计：令$\\overline{U}$和$s^2$是实际市场数据的样本均值和样本方差，则：\n",
    "> $$\n",
    "\\left\\{\n",
    "\\begin{aligned}\n",
    "    \\mu\\approx\\frac{\\overline{U}}{\\Delta t} &  \\\\  \n",
    "    \\sigma\\approx\\frac{s}{\\sqrt{\\Delta t}} &\n",
    "\\end{aligned}\n",
    "\\right.\n",
    "$$"
   ]
  },
  {
   "cell_type": "markdown",
   "metadata": {},
   "source": [
    "对这个标的资产为这个股票的看涨期权价格$C(S,t)$变动为：\n",
    "\n",
    "$$C(S+\\mathrm{d}S,t+\\mathrm{d}t)=C(S,t)+\\frac{\\partial C}{\\partial t}\\mathrm{d}t+\\frac{\\partial C}{\\partial S}\\mathrm{d}S+\\frac{1}{2}\\frac{\\partial^2 C}{\\partial S^2}\\mathrm{d}S^2+\\cdots$$\n",
    "\n",
    "上式中的偏微分用的非常广泛，实践中使用希腊字母来代替\n",
    "$$\\Theta=\\frac{\\partial C}{\\partial t}$$\n",
    "$$\\Delta=\\frac{\\partial C}{\\partial S}$$\n",
    "$$\\Gamma=\\frac{\\partial^2 C}{\\partial S^2}$$\n",
    "\n",
    "忽略影响微小的高次幂，用希腊字母代替，得到：\n",
    "$$C(S+\\mathrm{d}S,t+\\mathrm{d}t)=C(S,t)+\\Theta\\mathrm{d}t+\\Delta\\mathrm{d}S+\\frac{1}{2}\\Gamma\\mathrm{d}S^2$$"
   ]
  },
  {
   "cell_type": "markdown",
   "metadata": {},
   "source": [
    "无论上行还是下行，除了$\\pm\\Delta\\sigma S\\sqrt{\\mathrm{d}t}$，期权收益的情况变动都是一样的。可以卖空$\\Delta$份标的股票$S$。构造Delta对冲组合，它的初始价值是：\n",
    "$$V=C(S,t)−\\Delta S$$\n",
    "其价值变化是：\n",
    "$$\\mathrm{d}V(S,t)=\\Theta\\mathrm{d}t+\\frac{1}{2}\\Gamma\\sigma^2S^2 \\mathrm{d}t$$\n",
    "或\n",
    "$$\\mathrm{d}V(S,t)=\\Theta\\mathrm{d}t+\\frac{1}{2}\\Gamma\\mathrm{d}S^2$$\n",
    "这个值比$V$线性变化小得多，与$\\mathrm{d}S^2$成正比。所以必须使用Delta对冲，否则会掩盖住由曲度所带来的微小但很重要的变化。"
   ]
  },
  {
   "cell_type": "markdown",
   "metadata": {},
   "source": [
    "## 凸性的价值\n",
    "\n",
    "delta对冲在无限短时间$\\mathrm{d}t$内是无风险的，回报就是无风险利率。设无风险利率为0，得到：\n",
    "$$\\mathrm{d}V=\\Theta\\mathrm{d}t+\\frac{1}{2}\\Gamma\\sigma^2S^2\\mathrm{d}t=0$$\n",
    "即\n",
    "$$\\Theta+\\frac{1}{2}\\Gamma\\sigma^2S^2=0$$\n",
    "\n",
    "**这意味着：随着到期日临近，期权价值损失的$\\Theta\\mathrm{d}t$，应该完全等于股票价格变动$\\pm\\Delta\\sigma S\\sqrt{\\mathrm{d}t}$时，凸性带来的盈利$\\frac{1}{2}\\Gamma\\sigma^2S^2\\mathrm{d}t$。**\n",
    "\n",
    "> 所以对任一期权来说$$\\alpha=\\frac{\\Gamma}{\\Theta}=−\\frac{2}{\\sigma^2S^2}$$是一个定值。"
   ]
  },
  {
   "cell_type": "markdown",
   "metadata": {},
   "source": [
    "上式也是一个特化的BSM的形式，展开就是:\n",
    "$$\\frac{\\partial C}{\\partial t}+\\frac{1}{2}\\sigma^2S^2\\frac{\\partial^2 C}{\\partial S^2}=0$$\n",
    "\n",
    "下章中能证明，无风险收益率不为0时可改写为：\n",
    "$$\\frac{\\partial C}{\\partial t}+rS\\frac{\\partial C}{\\partial S}+\\frac{1}{2}\\sigma^2S^2\\frac{\\partial^2 C}{\\partial S^2}=rC$$\n",
    "上式可以表达为C$(S,t,K,T,\\sigma,r)$。\n",
    "\n",
    "$\\Delta$也是跟$S,t,K,T,\\sigma,r$相关的一个方程。BSM等式假设，在每个瞬间，都可以根据公式$\\Delta$迅速且不断的对冲组合的风险，连续不断进行动态复制，就相当于将二叉树模型的时间段缩短到无限窄，并保证在每次股价涨跌之后都可以找到对冲仓位。"
   ]
  },
  {
   "cell_type": "markdown",
   "metadata": {},
   "source": [
    "## 隐含波动率\n",
    "\n",
    "在金融学中，将通过迫使模型得到的价格等于市场价格，从而倒推出某个参数的未来预测值，称为隐含值。\n",
    "模型结果等于市场值而倒退出来的$\\sigma$，我们称其为隐含波动率。在$t$到$T$的时间段内，股票实际涨跌而得到的每一单位时间段内的回报的标准差，我们称其为实际波动率。 \n",
    "\n",
    "物理模型是向前看的，而金融模型却需要不断的回测。这种回测的逻辑在金融学中很常见，但是BSM模型在数学上是如此的优美和精确，使得我们很容易忘了，这个模型的用法跟物理学家的完全不同。\n",
    "\n",
    "$\\Sigma$代表隐含波动率；实际波动率是一个统计值，用$\\sigma$表示。"
   ]
  },
  {
   "cell_type": "markdown",
   "metadata": {},
   "source": [
    "## 对冲期权意味着对冲波动率\n",
    "\n",
    "由于\n",
    "$$\\frac{\\partial C}{\\partial t}+\\frac{1}{2}\\Gamma\\Sigma^2S^2=0$$\n",
    "\n",
    "$\\mathrm{d}t$时间内，头寸的亏损就是$\\frac{1}{2}\\Gamma\\Sigma^2S^2\\mathrm{d}t$。设股票价格变动为$\\pm\\Delta\\sigma S\\sqrt{\\mathrm{d}t}$，$\\sigma$是实际波动率，凸性带来的收益就是$\\frac{1}{2}\\Gamma\\sigma^2S^2$。\n",
    "$$收益=\\frac{1}{2}\\Gamma S^2\\left(\\sigma^2−\\Sigma^2\\right)\\mathrm{d}t$$\n",
    "\n",
    "**用delta对冲一个多头期权头寸，相当于在赌波动率。要实现正收益，实际波动率就必须大于隐含波动率，对于一个空头头寸，恰好相反。**"
   ]
  },
  {
   "cell_type": "markdown",
   "metadata": {},
   "source": [
    "> ### 想到的策略\n",
    "> * 期权同一执行价的Call和Put的平价套利\n",
    "> * 隐含波动率与实现波动率套利"
   ]
  }
 ],
 "metadata": {
  "kernelspec": {
   "display_name": "Python 3",
   "language": "python",
   "name": "python3"
  },
  "language_info": {
   "codemirror_mode": {
    "name": "ipython",
    "version": 3
   },
   "file_extension": ".py",
   "mimetype": "text/x-python",
   "name": "python",
   "nbconvert_exporter": "python",
   "pygments_lexer": "ipython3",
   "version": "3.6.0"
  }
 },
 "nbformat": 4,
 "nbformat_minor": 2
}
