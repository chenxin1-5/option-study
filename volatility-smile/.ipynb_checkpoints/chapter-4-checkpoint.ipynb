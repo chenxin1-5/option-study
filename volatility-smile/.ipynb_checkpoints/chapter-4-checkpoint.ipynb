{
 "cells": [
  {
   "cell_type": "markdown",
   "metadata": {},
   "source": [
    "# 第4章 方差掉期：复制的一课\n",
    "\n",
    "这章开始正式讲波动率头寸，构造了一个近似vega不变的方差掉期复制。"
   ]
  },
  {
   "cell_type": "markdown",
   "metadata": {},
   "source": [
    "## 期权波动率敏感性\n",
    "\n",
    "BSM模型\n",
    "$$\\frac{\\partial C}{\\partial t}+rS\\frac{\\partial C}{\\partial S}+\\frac{1}{2}\\sigma^2S^2\\frac{\\partial^2C}{\\partial S^2}=rC$$\n",
    "欧式看涨期权定价：\n",
    "$$C(S,K,\\tau,\\sigma,r)=SN(d_1)+Ke^{-r\\tau}N(d_2)$$\n",
    "$$d_{1,2}=\\frac{\\ln\\left(\\frac{S}{K}\\right)+\\left(r\\pm\\frac{\\sigma^2}{2}\\right)\\tau}{\\sigma\\sqrt{\\tau}}$$\n",
    "$$N(z)=\\frac{1}{\\sqrt{2\\pi}}\\int_{-\\infty}^xe^{-\\frac{1}{2}y^2}\\mathrm{d}y$$"
   ]
  },
  {
   "cell_type": "markdown",
   "metadata": {},
   "source": [
    "将期权在到期日之前的总波动率定义为$v$，则$v=\\sigma\\sqrt{\\tau}$。为了便于分析，假设有效期内无风险利率为0.于是可得\n",
    "$$C(S,K,v)=SN(d_1)-KN(d_2)$$\n",
    "$$d_{1,2}=\\frac{1}{v}\\ln\\left(\\frac{S}{K}\\right)\\pm\\frac{v}{2}$$\n",
    "定义期权对于波动率的敏感性:\n",
    "$$V=\\frac{\\partial C}{\\partial\\sigma}=\\frac{S\\sqrt{\\tau}}{\\sqrt{2\\pi}}e^{-\\frac{1}{2}d_1^2}$$\n",
    "$$\\kappa=\\frac{\\partial C}{\\partial\\sigma^2}=\\frac{S\\sqrt{\\tau}}{2\\sigma\\sqrt{2\\pi}}e^{-\\frac{1}{2}d_1^2}$$"
   ]
  },
  {
   "cell_type": "code",
   "execution_count": null,
   "metadata": {},
   "outputs": [],
   "source": []
  }
 ],
 "metadata": {
  "kernelspec": {
   "display_name": "Python 3",
   "language": "python",
   "name": "python3"
  },
  "language_info": {
   "codemirror_mode": {
    "name": "ipython",
    "version": 3
   },
   "file_extension": ".py",
   "mimetype": "text/x-python",
   "name": "python",
   "nbconvert_exporter": "python",
   "pygments_lexer": "ipython3",
   "version": "3.6.0"
  }
 },
 "nbformat": 4,
 "nbformat_minor": 2
}
