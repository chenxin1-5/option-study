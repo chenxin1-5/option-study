{
 "cells": [
  {
   "cell_type": "markdown",
   "metadata": {},
   "source": [
    "# 第4章 方差掉期：复制的一课\n",
    "\n",
    "本章的通过期权复制方差掉期的损益的方法相当有技巧性，还展示了离散的期权分段线性复制的可实操的方法和分析。关于波动率掉期和方差掉期的复制思想值得深入学习理解。\n",
    "\n",
    "利用本章介绍的技术，可以获得一个波动率掉期头寸（甚至在P&L上更优）。可以和VIX衍生品套利。"
   ]
  },
  {
   "cell_type": "markdown",
   "metadata": {},
   "source": [
    "## 期权波动率敏感性\n",
    "\n",
    "BSM模型\n",
    "$$\\frac{\\partial C}{\\partial t}+rS\\frac{\\partial C}{\\partial S}+\\frac{1}{2}\\sigma^2S^2\\frac{\\partial^2C}{\\partial S^2}=rC$$\n",
    "欧式看涨期权定价：\n",
    "$$C(S,K,\\tau,\\sigma,r)=SN(d_1)+Ke^{-r\\tau}N(d_2)$$\n",
    "$$d_{1,2}=\\frac{\\ln\\left(\\frac{S}{K}\\right)+\\left(r\\pm\\frac{\\sigma^2}{2}\\right)\\tau}{\\sigma\\sqrt{\\tau}}$$\n",
    "$$N(z)=\\frac{1}{\\sqrt{2\\pi}}\\int_{-\\infty}^xe^{-\\frac{1}{2}y^2}\\mathrm{d}y$$"
   ]
  },
  {
   "cell_type": "markdown",
   "metadata": {},
   "source": [
    "将期权在到期日之前的总波动率定义为$v$，则$v=\\sigma\\sqrt{\\tau}$。为了便于分析，假设有效期内无风险利率为0.于是可得\n",
    "$$C(S,K,v)=SN(d_1)-KN(d_2)$$\n",
    "$$d_{1,2}=\\frac{1}{v}\\ln\\left(\\frac{S}{K}\\right)\\pm\\frac{v}{2}$$\n",
    "定义期权对于波动率的敏感性:\n",
    "$$V=\\frac{\\partial C}{\\partial\\sigma}=\\frac{S\\sqrt{\\tau}}{\\sqrt{2\\pi}}e^{-\\frac{1}{2}d_1^2}$$\n",
    "$$\\kappa=\\frac{\\partial C}{\\partial\\sigma^2}=\\frac{S\\sqrt{\\tau}}{2\\sigma\\sqrt{2\\pi}}e^{-\\frac{1}{2}d_1^2}$$\n",
    "$V$称为vega, $\\kappa$也就是kappa，称为方差的vega。\n",
    "\n",
    "对于任意一个期权而言，当标的股票价格接近行权价格时，其方差vega就达到峰值。"
   ]
  },
  {
   "cell_type": "markdown",
   "metadata": {},
   "source": [
    "> $$\\frac{\\partial\\kappa}{\\partial S}=\\frac{\\sqrt{\\tau}}{2\\sigma\\sqrt{2\\pi}}e^{-\\frac{1}{2}d_1^2}\\left(\\frac{1}{2}-\\frac{1}{v^2}\\ln\\left(\\frac{S}{K}\\right)\\right)$$\n",
    "> 为找到当$S=S^*$时，$\\kappa$最大，须使此时$\\frac{\\partial\\kappa}{\\partial S}=0$，即：\n",
    "> $$\\frac{1}{2}-\\frac{1}{v^2}\\ln\\left(\\frac{S^*}{K}\\right)=0$$\n",
    "> 因此有：\n",
    "> $$S^*=Ke^{\\frac{1}{2}v^2}$$\n",
    "> 对一般的波动率和到期期限而言，$v^2$非常接近于0，即$S^*$略大于$K$。"
   ]
  },
  {
   "cell_type": "markdown",
   "metadata": {},
   "source": [
    "## 波动率和方差掉期\n",
    "\n",
    "一个普通期权对波动率或者方差的敞口是一个与标的股票价格相关的峰值函数。\n",
    "\n",
    "波动率掉期合约的价值就是合约有效期内的实际波动率$\\sigma_R$，和之前双方约定的交割波动率$\\sigma_K$的差。波动率掉期合约就是：\n",
    "$$\\pi=N(\\sigma_R-\\sigma_K)$$\n",
    "其中$N$代表名义价值，通常指波动率掉期的名义vega值。\n",
    "\n",
    "与此相似，一份方差掉期就是针对实际方差的远期合约，在到期日，其价值等于：\n",
    "$$\\pi=N(\\sigma_R^2-\\sigma_K^2)$$\n",
    "方差合约的名义价值$N$，通常也叫做名义方差。\n",
    "\n",
    "如果$(\\sigma_R-\\sigma_K)$的值很小，并且保持一阶值，则可以用波动率掉期的价格近似算出方差掉期的价格：\n",
    "$$\\sigma_R^2-\\sigma_K^2\\approx2\\sigma_K(\\sigma_R-\\sigma_K)$$\n",
    "\n",
    "我们会发现，方差(而不是波动率)才是复制策略用的最多的参数。"
   ]
  },
  {
   "cell_type": "markdown",
   "metadata": {},
   "source": [
    "## 复制波动率掉期\n",
    "\n",
    "通常，掉期合约的初始价格为0。虽然期权交易员习惯按照波动率来思考，但实际上方差掉期更容易复制并进行对冲。\n",
    "\n",
    "方差掉期的到期损益总是大于等于波动率掉期。**理论上说，可以通过交易方差掉期动态复制一个波动率掉期。**尽管方差掉期的流动性较差，可能会使这个策略产生一些问题。"
   ]
  },
  {
   "cell_type": "markdown",
   "metadata": {},
   "source": [
    "## 在BSM模型环境下，用期权复制一个方差掉期\n",
    "\n",
    "$$利润=\\frac{1}{2}\\Gamma S^2(\\sigma_R^2-\\Sigma^2)\\mathrm{d}t$$\n",
    "期权随着时间或者$S$的变化，$\\Gamma S^2$也会变化。由于期权流动性差，我们很难在$\\Gamma S^2$低的时候加仓；在$\\Gamma S^2$高的时候减仓。即使在最好的市场环境中，动态对冲很有挑战性，而且用流动性差的工具进行动态对冲非常困难，在实际市场中也非常贵。所以，**静态复制更有吸引力**。\n",
    "\n",
    "我们可以**用多个普通期权构建一个组合**，使组合的$\\Gamma$等于$1/S^2$。这个组合对方差的敞口将不受股票价格的影响。可以将多个期权组合在一起，得到一个稳定的$\\kappa$值，使其不受$S$的影响。**这样的组合就是纯粹的对方差下赌注。**\n",
    "\n",
    "可以证明（证明略），构建这个组合所需要的普通期权合约数量，与期权行权价格的平方成倒数关系。**一个普通期权的连续密度函数，如果其权重下降$1/K^2$，那么它对于方差的敏感性就与股票价格无关，因此可以复制一个方差掉期。**在实践中，可以在一定的股票价格范围内构建一个对方差敏感性相对稳定的组合。"
   ]
  },
  {
   "cell_type": "markdown",
   "metadata": {},
   "source": [
    "## 权重为$1/K^2$的普通期权组合的对数损益\n",
    "\n",
    "$$\\pi(S,S^*,v)=\\int_0^{S^*}\\frac{1}{K^2}P(S,K,v)\\mathrm{d}K+\\int_{S^*}^\\infty\\frac{1}{K^2}C(S,K,v)\\mathrm{d}K$$\n",
    "$$\n",
    "\\begin{align*}\n",
    "\\pi(S_T,S^*,0)&=\\int_0^{S^*}\\frac{1}{K^2}P(S,K,0)\\mathrm{d}K+\\int_{S^*}^\\infty\\frac{1}{K^2}C(S,K,0)\\mathrm{d}K \\\\\n",
    " &=\\int_{S^*}^{S^T}\\frac{1}{K^2}(S_T-K)\\mathrm{d}K=\\left(\\frac{S_T-S^*}{S^*}\\right)-\\ln\\left(\\frac{S_T}{S^*}\\right)\n",
    "\\end{align*}\n",
    "$$\n",
    "可以用BSM等式计算这些期权**到期前**的价值，假设无风险利率为0，因此有：\n",
    "$$\\pi(S,S^*,v)=\\left(\\frac{S-S^*}{S^*}\\right)-\\ln\\left(\\frac{S}{S^*}\\right)+\\frac{1}{2}v^2$$"
   ]
  },
  {
   "cell_type": "markdown",
   "metadata": {},
   "source": [
    "## 在布莱克-斯科尔斯-默顿条件下计算对数合约的价值\n",
    "\n",
    "对数合约$L$在到期日$T$的损益可以表达为：\n",
    "$$L(S,S^*)=\\ln\\left(\\frac{S_T}{S^*}\\right)$$\n",
    "其中$S_T$是股票在$T$时的价格，$S^*$是固定的期权价格。\n",
    "\n",
    "对数合约也可以delta对冲，得到方程：\n",
    "$$\\frac{\\partial L}{\\partial t}+\\frac{1}{2}\\sigma^2S^2\\frac{\\partial^2 L}{\\partial S^2}=0$$\n",
    "解得：\n",
    "$$L(S,S^*,t,T)=\\ln\\left(\\frac{S}{S^*}\\right)-\\frac{1}{2}\\sigma^2(T-t)$$\n",
    "一份对数合约空头：\n",
    "$$-L(S,S^*,t,T)=-\\ln\\left(\\frac{S}{S^*}\\right)+\\frac{1}{2}\\sigma^2(T-t)=-\\ln\\left(\\frac{S}{S^*}\\right)+\\frac{1}{2}v^2$$\n",
    "\n",
    "\n",
    "**为了复制一个方差掉期，而由权重为$1/K^2$的看跌期权和看涨期权的组合，其到期损益的情况就等于一份行权价为$S^*$的对数合约空头，加上$1/S^*$份交割价为$S^*$的远期合约多头。**\n"
   ]
  },
  {
   "cell_type": "markdown",
   "metadata": {},
   "source": [
    "对数合约的一些性质：\n",
    "* 一份空头对数合约的delta为$-\\partial L/\\partial S=-1/S$，进行delta对冲只需要持有$1/S$份标的资产，也就是1美元的资产即可。\n",
    "* $-L(S,S^*,t,T)$的$\\Gamma$是$1/S^2$。与普通期权不同，对数合约的$\\Gamma S^2$是一个固定值，不受股票价格或者时间的影响。所以**对数合约是一个纯粹基于波动率的工具。远期合约（加上这个对数合约）可以消除对于股票价格的任何敞口。**\n",
    "* $-L(S,S^*,t,T)$对方差的敏感性$\\kappa$值是$(T-t)/2$。在合约起始日，也就是$t=0$，就有$\\kappa=T/2$。\n",
    "\n",
    "若使组合$\\pi$中的复制合约同时乘以$2/T$，初始$\\kappa$值就等于1.新组合的价值为：\n",
    "$$\\pi(S,S^*,t,T)=\\frac{2}{T}\\left[\\left(\\frac{S-S^*}{S^*}\\right)-\\ln{\\left(\\frac{S}{S^*}\\right)}\\right]+\\frac{T-t}{T}\\sigma^2$$\n",
    "\n",
    "另合约初始时股票价格为$S_0$，设$S^*$等于$S_0$，那么初始时就有$S=S_0=S^*$，于是：\n",
    "$$\\pi(S_0,S_0,0,T)=\\sigma^2$$\n",
    "\n",
    "在到期日，这个组合的损益情况为：\n",
    "$$\\pi(S_T,S_0,T,T)=\\frac{2}{T}\\left[\\left(\\frac{S_T-S_0}{S_0}\\right)-\\ln{\\left(\\frac{S_T}{S_0}\\right)}\\right]$$"
   ]
  },
  {
   "cell_type": "markdown",
   "metadata": {},
   "source": [
    "### 证明当$S^*=S_0$时，对数合约的公允价值就是未来的实际方差\n",
    "\n",
    "**可以证明，对一份对数合约进行对冲，就相当于复制一个股票的方差。**所以本节标题的结论成立。"
   ]
  },
  {
   "cell_type": "markdown",
   "metadata": {},
   "source": [
    "### 在波动率服从随机分布下的复制方差\n",
    "\n",
    "**一般地（不需要BSM的强约束），只要股票价格不出现间断式跳跃，我们就可以通过对数合约和标的股票头寸来复制一个方差掉期，不论波动率是否变化，回报是呈偏态分布还是存在肥尾。**\n",
    "\n",
    "假设股票回报服从一般扩散过程:\n",
    "$$\\frac{\\mathrm{d}S}{S}=\\mu_t\\mathrm{d}t+\\sigma_t\\mathrm{d}Z$$\n",
    "根据伊藤引理，\n",
    "$$\\mathrm{d}\\ln{S}=\\left(\\mu_t-\\frac{\\sigma_t^2}{2}\\right)\\mathrm{d}t+\\sigma_t\\mathrm{d}Z$$\n",
    "上述两式相减，得：\n",
    "$$\\frac{\\mathrm{d}S}{S}-\\mathrm{d}\\ln{S}=\\frac{1}{2}\\sigma^2\\mathrm{d}t$$\n",
    "移项并积分，乘以合约期限，得到：\n",
    "$$\\frac{1}{T}\\int_0^T\\sigma_t^2\\mathrm{d}t=\\frac{2}{T}\\left[\\int_0^T\\frac{1}{S}\\mathrm{d}S-\\ln{\\left(\\frac{S_T}{S_0}\\right)}\\right]$$\n",
    "上式可以确保，**无论股票价格路径是怎样的，只要其保持连续性，复制策略就可以锁定方差。**"
   ]
  },
  {
   "cell_type": "markdown",
   "metadata": {},
   "source": [
    "### 方差估值\n",
    "\n"
   ]
  }
 ],
 "metadata": {
  "kernelspec": {
   "display_name": "Python 3",
   "language": "python",
   "name": "python3"
  },
  "language_info": {
   "codemirror_mode": {
    "name": "ipython",
    "version": 3
   },
   "file_extension": ".py",
   "mimetype": "text/x-python",
   "name": "python",
   "nbconvert_exporter": "python",
   "pygments_lexer": "ipython3",
   "version": "3.6.0"
  }
 },
 "nbformat": 4,
 "nbformat_minor": 2
}
