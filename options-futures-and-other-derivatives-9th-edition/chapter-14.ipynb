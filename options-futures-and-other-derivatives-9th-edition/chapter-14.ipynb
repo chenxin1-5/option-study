{
 "cells": [
  {
   "cell_type": "markdown",
   "metadata": {},
   "source": [
    "# 第14章 维纳过程和伊藤引理"
   ]
  },
  {
   "cell_type": "markdown",
   "metadata": {},
   "source": [
    "如果一个变量的值以某种不确定的形式随时间变化，我们称这个变量服从某种**随机过程**。\n",
    "\n",
    "随机过程分为两类:\n",
    "* 离散时间\n",
    "    * 变量值只能在某些确定的时间点上变化\n",
    "* 连续时间\n",
    "    * 变量值可以在任何时刻上变化。或称为**连续时间随机过程**\n",
    "\n",
    "随机过程还可分为两类:\n",
    "* 连续变量\n",
    "    * 标的变量可以取某一范围内的任何值\n",
    "* 离散变量\n",
    "    * 标的变量只能取某些离散值"
   ]
  },
  {
   "cell_type": "markdown",
   "metadata": {},
   "source": [
    "## 马尔科夫性质\n",
    "**马尔科夫过程**是一种特殊类型的随机过程，其中只有标的变量的当前值与未来的预测有关，而变量的历史值及变量从过去到现在的演变方式与未来的预测无关。 股票价格的马尔科夫性质与**弱市场有效性**是一致的。"
   ]
  },
  {
   "cell_type": "markdown",
   "metadata": {},
   "source": [
    "## 连续时间随机过程\n"
   ]
  }
 ],
 "metadata": {
  "kernelspec": {
   "display_name": "Python 3",
   "language": "python",
   "name": "python3"
  },
  "language_info": {
   "codemirror_mode": {
    "name": "ipython",
    "version": 3
   },
   "file_extension": ".py",
   "mimetype": "text/x-python",
   "name": "python",
   "nbconvert_exporter": "python",
   "pygments_lexer": "ipython3",
   "version": "3.6.0"
  }
 },
 "nbformat": 4,
 "nbformat_minor": 2
}
