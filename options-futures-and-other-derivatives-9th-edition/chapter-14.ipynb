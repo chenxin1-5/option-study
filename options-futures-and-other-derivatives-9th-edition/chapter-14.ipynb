{
 "cells": [
  {
   "cell_type": "markdown",
   "metadata": {},
   "source": [
    "# 第14章 维纳过程和伊藤引理"
   ]
  },
  {
   "cell_type": "markdown",
   "metadata": {},
   "source": [
    "如果一个变量的值以某种不确定的形式随时间变化，我们称这个变量服从某种**随机过程**。\n",
    "\n",
    "随机过程分为两类:\n",
    "* 离散时间\n",
    "    * 变量值只能在某些确定的时间点上变化\n",
    "* 连续时间\n",
    "    * 变量值可以在任何时刻上变化。或称为**连续时间随机过程**\n",
    "\n",
    "随机过程还可分为两类:\n",
    "* 连续变量\n",
    "    * 标的变量可以取某一范围内的任何值\n",
    "* 离散变量\n",
    "    * 标的变量只能取某些离散值"
   ]
  },
  {
   "cell_type": "markdown",
   "metadata": {},
   "source": [
    "## 马尔科夫性质\n",
    "**马尔科夫过程**是一种特殊类型的随机过程，其中只有标的变量的当前值与未来的预测有关，而变量的历史值及变量从过去到现在的演变方式与未来的预测无关。 股票价格的马尔科夫性质与**弱市场有效性**是一致的。"
   ]
  },
  {
   "cell_type": "markdown",
   "metadata": {},
   "source": [
    "## 连续时间随机过程\n"
   ]
  },
  {
   "cell_type": "markdown",
   "metadata": {},
   "source": [
    "$\\phi(\\mu,v)$代表正态概率分布，期望值为$\\mu$,方差为$v$。\n",
    "\n",
    "将两个相互独立的正态分布变量相加后得到的和也服从正态分布，其期望值等于两个独立变量期望值的和，方差等于两个独立变量方差的和。\n",
    "\n",
    "一般来讲，变量在任意时间段$T$内变化的分布服从$\\phi(0,T)$。特别是在很小一段时间$\\Delta t$内变量的分布服从$\\phi(0,\\Delta t)$。"
   ]
  },
  {
   "cell_type": "markdown",
   "metadata": {},
   "source": [
    "### 维纳过程\n",
    "\n",
    "**维纳过程**是一种期望值为0，方差率为每年1.0的特殊马尔科夫过程。这种过程曾在物理学中描述一个粒子受到大量小分子碰撞后所产生的运动，有时也称这种运动为**布朗运动**。\n",
    "\n",
    "采用正规的表达方式，随机变量$z$具有以下两个性质时被称为服从维纳过程："
   ]
  },
  {
   "cell_type": "markdown",
   "metadata": {},
   "source": [
    "**性质1: 变化量$\\Delta z$在一小段时间区间$\\Delta t$之内的变化为\n",
    "$$\\Delta z=\\varepsilon\\sqrt{\\Delta t}$$**\n",
    "其中$\\varepsilon$服从标准正态分布$\\phi(0,1)$。"
   ]
  },
  {
   "cell_type": "markdown",
   "metadata": {},
   "source": [
    "**性质2: 在任何两个不相重叠的$\\Delta t$时间区间内，变化量$\\Delta z$之间互相独立。**"
   ]
  },
  {
   "cell_type": "markdown",
   "metadata": {},
   "source": [
    "考虑在一段时间$T$内$z$的变化，变量表达为$z(T)-z(0)$。可看做$N$个长度为$\\Delta t$的小时段内变量$z$的变化总和，其中\n",
    "$$N=\\frac{T}{\\Delta t}$$\n",
    "因此\n",
    "$$z(T)-z(0)=\\sum_{i=1}^n{\\varepsilon_i\\sqrt{\\Delta t}}$$\n",
    "故\n",
    "$$z(T)-z(0)的均值=0$$\n",
    "$$z(T)-z(0)的方差=N\\Delta t=T$$\n",
    "$$z(T)-z(0)的标准差=\\sqrt{T}$$"
   ]
  },
  {
   "cell_type": "markdown",
   "metadata": {},
   "source": [
    "我们采用$\\mathrm{d}z$来代表维纳过程，及$\\mathrm{d}z$代表当$\\Delta t\\to 0$时，$\\Delta z$的极限形式。\n",
    "\n",
    "当$\\Delta t$很小时，$\\sqrt{\\Delta t}$远远大于$\\Delta t$。列出两个与$\\sqrt{\\Delta t}$有关的维纳过程的性质：\n",
    "1. 在任意给定时间内，变量$z$所遵循的路径长度的期望值为无穷大\n",
    "1. 在任意给定时间内，变量$z$等于一个给定数值的次数的期望值为无穷大"
   ]
  },
  {
   "cell_type": "markdown",
   "metadata": {},
   "source": [
    "### 广义维纳过程\n",
    "\n",
    "在随机过程中，变量在单位时间内变化的期望值叫做变量的**漂移率**，方差叫做变量的**方差率**。**广义维纳过程**$x$可以通过$\\mathrm{d}z$定义：\n",
    "$$\\mathrm{d}x=a\\mathrm{d}t+b\\mathrm{d}z$$\n",
    "其中$a$与$b$为常数。"
   ]
  },
  {
   "cell_type": "markdown",
   "metadata": {},
   "source": [
    "在短时间$\\Delta t$内，给出的$x$变化量$\\Delta x$为\n",
    "$$\\Delta x=a\\Delta t+b\\varepsilon\\sqrt{\\Delta t}$$\n",
    "且\n",
    "$$\\Delta x的均值=a\\Delta t$$\n",
    "$$\\Delta x的标准差=b\\sqrt{\\Delta t}$$\n",
    "$$\\Delta x的方差=b^2\\Delta t$$\n",
    "类似地，在任意时间$T$内，变量$x$的变化服从正态分布，且满足：\n",
    "$$x变化的均值=aT$$\n",
    "$$x变化的标准差=b\\sqrt{T}$$\n",
    "$$x变化的方差=b^2T$$"
   ]
  },
  {
   "cell_type": "markdown",
   "metadata": {},
   "source": [
    "因此，式子\n",
    "$$\\mathrm{d}x=a\\mathrm{d}t+b\\mathrm{d}z$$ \n",
    "所示广义维纳过程的漂移率期望为$a$，方差率为$b^2$。"
   ]
  },
  {
   "cell_type": "markdown",
   "metadata": {},
   "source": [
    "### 伊藤过程\n",
    "\n",
    "伊藤过程是一种更为广义的维纳过程，其中$a$和$b$为变量$x$和时间$t$的函数。伊藤过程的表达式为：\n",
    "$$\\mathrm{d}x=a(x,t)\\mathrm{d}t+b(x,t)\\mathrm{d}z$$ \n",
    "在任意小的时间区间$t$与$t+\\Delta t$内，变量$x$变为$x+\\Delta x$，其中：\n",
    "$$\\Delta x=a(x,t)\\Delta t+b(x,t)\\varepsilon\\sqrt{\\Delta t}$$\n",
    "上式中，$x$的变化只依赖于$x$在时间$t$的值，而与其历史取值无关，所以这个过程具有马尔科夫性质。否则，如果$a$与$b$依赖于$x$在时间$t$之前的值，那么这样得到的过程将不再具有马尔科夫性质。"
   ]
  },
  {
   "cell_type": "markdown",
   "metadata": {},
   "source": [
    "## 描述股票价格的过程\n",
    "\n",
    "假设股票价格服从广义维纳过程，收益率期望（即漂移率期望除以股票价格）为常数。如果股票$t$时刻的价格为$S$，那么股票的期望漂移率应为$\\mu S$，其中$\\mu$为常数。这一假设意味着在一段很短的时间$\\Delta t$内，股票$S$的期望增量为$\\mu S\\Delta t$，其中$\\mu$为股票的收益率期望值。得出的模型是：\n",
    "$$\\mathrm{d}S=\\mu S\\mathrm{d}t+\\sigma S\\mathrm{d}z$$\n",
    "或者\n",
    "$$\\frac{\\mathrm{d}S}{S}=\\mu\\mathrm{d}t+\\sigma\\mathrm{d}z$$\n",
    "上式是描述股票价格行为时最为广泛使用的一种模型，变量$\\mu$为股票价格的收益率期望值。变量$\\sigma$为股票价格的波动率，而变量$\\sigma^2$为股票价格的方差率。上式可被视为在现实世界里的股票价格过程。在风险中性的世界里，$\\mu$等于无风险利率$r$。"
   ]
  },
  {
   "cell_type": "markdown",
   "metadata": {},
   "source": [
    "### 离散时间模型\n",
    "\n",
    "上股价变化的模型叫做**几何布朗运动**。模型的离散形式为：\n",
    "$$\\frac{\\Delta S}{S}=\\mu\\Delta t+\\sigma\\varepsilon\\sqrt{\\Delta t}$$\n",
    "或\n",
    "$$\\Delta S=\\mu S\\Delta t+\\sigma S\\varepsilon\\sqrt{\\Delta t}$$\n",
    "即\n",
    "$$\\frac{\\Delta S}{S}\\thicksim\\phi(\\mu\\Delta t,\\sigma^2\\Delta t)$$"
   ]
  },
  {
   "cell_type": "markdown",
   "metadata": {},
   "source": [
    "## 参数\n",
    "\n",
    "两个参数:$\\mu$和$\\sigma$。参数$\\mu$为投资者在很短一段时间里赚取的收益率期望值（按年计）。与股票相关的衍生品价值一般与$\\mu$无关。反而股票价格波动率$\\sigma$是至关重要的。股价波动率通常介于15%到60%之间。\n",
    "\n",
    "在一段很短的时间$\\Delta t$后，股价百分比变化的标准差为$\\sigma\\sqrt{\\Delta t}$。作为一个粗略估计，在一段较长时间$T$后，股价百分比变化的标准差为$\\sigma\\sqrt{T}$。这意味着，作为近似估计，波动率可以被解释成股票在1年内的价格变化的标准差。（股价的波动率正好等于以连续复利计算的1年时股票价格收益率的标准差。）"
   ]
  },
  {
   "cell_type": "markdown",
   "metadata": {},
   "source": [
    "## 伊藤引理 \n",
    "\n",
    "假设变量$x$的值服从以下伊藤过程\n",
    "$$\\mathrm{d}x=a(x,t)\\mathrm{d}t+b(x,t)\\mathrm{d}z$$\n",
    "其中$\\mathrm{d}z$是维纳过程，$a$和$b$为$x$和$t$的函数。变量$x$的漂移率为$a$，方差率为$b^2$。伊藤引理说明$x$和$t$的函数$G$服从以下过程：\n",
    "$$\\mathrm{d}G=\\left(\\frac{\\partial G}{\\partial x}a+\\frac{\\partial G}{\\partial t}+\\frac{1}{2}\\frac{\\partial^2G}{\\partial x^2}b^2\\right)\\mathrm{d}t+\\frac{\\partial G}{\\partial x}b\\mathrm{d}z$$\n",
    "其中$\\mathrm{d}z$是与上式相同的维纳过程。因此，$G$也服从伊藤过程，其漂移率为\n",
    "$$\\frac{\\partial G}{\\partial x}a+\\frac{\\partial G}{\\partial t}+\\frac{1}{2}\\frac{\\partial^2G}{\\partial x^2}b^2$$\n",
    "方差率为\n",
    "$$\\left(\\frac{\\partial G}{\\partial x}\\right)^2b^2$$"
   ]
  },
  {
   "cell_type": "markdown",
   "metadata": {},
   "source": [
    "在描述股价的模型\n",
    "$$\\mathrm{d}S=\\mu S\\mathrm{d}t+\\sigma S\\mathrm{d}z$$\n",
    "中，其中$\\mu$和$\\sigma$为常数。由伊藤引理，$S$和$t$的函数$G$服从以下过程\n",
    "$$\\mathrm{d}G=\\left(\\frac{\\partial G}{\\partial S}\\mu S+\\frac{\\partial G}{\\partial t}+\\frac{1}{2}\\frac{\\partial^2G}{\\partial S^2}\\sigma^2S^2\\right)\\mathrm{d}t+\\frac{\\partial G}{\\partial x}\\sigma S\\mathrm{d}z$$\n",
    "注意$S$和$G$都受同一个不确定性来源$\\mathrm{d}z$的影响。在推到BSM模型时，这点很重要。"
   ]
  },
  {
   "cell_type": "markdown",
   "metadata": {},
   "source": [
    "## 对数分布的性质\n",
    "\n",
    "推导当$S$服从\n",
    "$$\\mathrm{d}S=\\mu S\\mathrm{d}t+\\sigma S\\mathrm{d}z$$\n",
    "时，$\\ln S$所服从的随机过程。定义\n",
    "$$G=\\ln S$$\n",
    "因为\n",
    "$$\\frac{\\partial G}{\\partial S}=\\frac{1}{S},\\frac{\\partial^2G}{\\partial S^2}=-\\frac{1}{S^2},\\frac{\\partial G}{\\partial t}=0$$\n",
    "根据伊藤引理，$G$满足:\n",
    "$$\\mathrm{d}G=\\left(\\mu-\\frac{\\sigma^2}{2}\\right)\\mathrm{d}t+\\sigma\\mathrm{d}z$$\n",
    "由于$\\mu$和$\\sigma$为常数，以上方程说明$G=\\ln S$满足一个广义维纳过程，其漂移率为常数$\\frac{\\mu-\\sigma^2}{2}$，方差率为常数$\\sigma^2$。因此，$\\ln S$在$0$与$T$时刻之间的变化服从正态分布，期望值为$\\frac{\\mu-\\sigma^2}{2}T$，方差为$\\sigma^2T$。这意味着\n",
    "$$\\ln S_T-\\ln S_0\\thicksim\\phi\\left[\\left(\\mu-\\frac{\\sigma^2}{2}\\right)T,\\sigma^2T\\right]$$\n",
    "或者\n",
    "$$\\ln S_T\\thicksim\\phi\\left[\\ln S_0+\\left(\\mu-\\frac{\\sigma^2}{2}\\right)T,\\sigma^2T\\right]$$\n",
    "我们称变量$S$满足对数正态分布。"
   ]
  }
 ],
 "metadata": {
  "kernelspec": {
   "display_name": "Python 3",
   "language": "python",
   "name": "python3"
  },
  "language_info": {
   "codemirror_mode": {
    "name": "ipython",
    "version": 3
   },
   "file_extension": ".py",
   "mimetype": "text/x-python",
   "name": "python",
   "nbconvert_exporter": "python",
   "pygments_lexer": "ipython3",
   "version": "3.6.0"
  }
 },
 "nbformat": 4,
 "nbformat_minor": 2
}
