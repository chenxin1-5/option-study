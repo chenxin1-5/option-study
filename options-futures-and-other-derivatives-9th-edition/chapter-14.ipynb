{
 "cells": [
  {
   "cell_type": "markdown",
   "metadata": {},
   "source": [
    "# 第14章 维纳过程和伊藤引理"
   ]
  },
  {
   "cell_type": "markdown",
   "metadata": {},
   "source": [
    "如果一个变量的值以某种不确定的形式随时间变化，我们称这个变量服从某种**随机过程**。\n",
    "\n",
    "随机过程分为两类:\n",
    "* 离散时间\n",
    "    * 变量值只能在某些确定的时间点上变化\n",
    "* 连续时间\n",
    "    * 变量值可以在任何时刻上变化。或称为**连续时间随机过程**\n",
    "\n",
    "随机过程还可分为两类:\n",
    "* 连续变量\n",
    "    * 标的变量可以取某一范围内的任何值\n",
    "* 离散变量\n",
    "    * 标的变量只能取某些离散值"
   ]
  },
  {
   "cell_type": "markdown",
   "metadata": {},
   "source": [
    "## 马尔科夫性质\n",
    "**马尔科夫过程**是一种特殊类型的随机过程，其中只有标的变量的当前值与未来的预测有关，而变量的历史值及变量从过去到现在的演变方式与未来的预测无关。 股票价格的马尔科夫性质与**弱市场有效性**是一致的。"
   ]
  },
  {
   "cell_type": "markdown",
   "metadata": {},
   "source": [
    "## 连续时间随机过程\n"
   ]
  },
  {
   "cell_type": "markdown",
   "metadata": {},
   "source": [
    "$\\phi(\\mu,v)$代表正态概率分布，期望值为$\\mu$,方差为$v$。\n",
    "\n",
    "将两个相互独立的正态分布变量相加后得到的和也服从正态分布，其期望值等于两个独立变量期望值的和，方差等于两个独立变量方差的和。\n",
    "\n",
    "一般来讲，变量在任意时间段$T$内变化的分布服从$\\phi(0,T)$。特别是在很小一段时间$\\Delta t$内变量的分布服从$\\phi(0,\\Delta t)$。"
   ]
  },
  {
   "cell_type": "markdown",
   "metadata": {},
   "source": [
    "### 维纳过程\n",
    "\n",
    "**维纳过程**是一种期望值为0，方差率为每年1.0的特殊马尔科夫过程。这种过程曾在物理学中描述一个粒子受到大量小分子碰撞后所产生的运动，有时也称这种运动为**布朗运动**。\n",
    "\n",
    "采用正规的表达方式，随机变量$z$具有以下两个性质时被称为服从维纳过程："
   ]
  },
  {
   "cell_type": "markdown",
   "metadata": {},
   "source": [
    "**性质1: 变化量$\\Delta z$在一小段时间区间$\\Delta t$之内的变化为\n",
    "$$\\Delta z=\\varepsilon\\sqrt{\\Delta t}$$**\n",
    "其中$\\varepsilon$服从标准正态分布$\\phi(0,1)$。"
   ]
  },
  {
   "cell_type": "markdown",
   "metadata": {},
   "source": [
    "**性质2: 在任何两个不相重叠的$\\Delta t$时间区间内，变化量$\\Delta z$之间互相独立。**"
   ]
  },
  {
   "cell_type": "markdown",
   "metadata": {},
   "source": [
    "考虑在一段时间$T$内$z$的变化，变量表达为$z(T)-z(0)$。可看做$N$个长度为$\\Delta t$的小时段内变量$z$的变化总和，其中\n",
    "$$N=\\frac{T}{\\Delta t}$$\n",
    "因此\n",
    "$$z(T)-z(0)=\\sum_{i=1}^n{\\varepsilon_i\\sqrt{\\Delta t}}$$\n",
    "故\n",
    "$$z(T)-z(0)的均值=0$$\n",
    "$$z(T)-z(0)的方差=N\\Delta t=T$$\n",
    "$$z(T)-z(0)的标准差=\\sqrt{T}$$"
   ]
  },
  {
   "cell_type": "markdown",
   "metadata": {},
   "source": [
    "我们采用$\\mathrm{d}z$来代表维纳过程，及$\\mathrm{d}z$代表当$\\Delta t\\to 0$时，$\\Delta z$的极限形式。\n",
    "\n",
    "当$\\Delta t$很小时，$\\sqrt{\\Delta t}$远远大于$\\Delta t$。列出两个与$\\sqrt{\\Delta t}$有关的维纳过程的性质：\n",
    "1. 在任意给定时间内，变量$z$所遵循的路径长度的期望值为无穷大\n",
    "1. 在任意给定时间内，变量$z$等于一个给定数值的次数的期望值为无穷大"
   ]
  },
  {
   "cell_type": "markdown",
   "metadata": {},
   "source": [
    "### 广义维纳过程\n",
    "\n",
    "在随机过程中，变量在单位时间内变化的期望值叫做变量的**漂移率**，方差叫做变量的**方差率**。**广义维纳过程**$x$可以通过$\\mathrm{d}z$定义：\n",
    "$$\\mathrm{d}x=a\\mathrm{d}t+b\\mathrm{d}z$$\n",
    "其中$a$与$b$为常数。"
   ]
  },
  {
   "cell_type": "markdown",
   "metadata": {},
   "source": [
    "在短时间$\\Delta t$内，给出的$x$变化量$\\Delta x$为\n",
    "$$\\Delta x=a\\Delta t+b\\varepsilon\\sqrt{\\Delta t}$$\n",
    "且\n",
    "$$\\Delta x的均值=a\\Delta t$$\n",
    "$$\\Delta x的标准差=b\\sqrt{\\Delta t}$$\n",
    "$$\\Delta x的方差=b^2\\Delta t$$\n",
    "类似地，在任意时间$T$内，变量$x$的变化服从正态分布，且满足：\n",
    "$$x变化的均值=aT$$\n",
    "$$x变化的标准差=b\\sqrt{T}$$\n",
    "$$x变化的方差=b^2T$$"
   ]
  },
  {
   "cell_type": "markdown",
   "metadata": {},
   "source": [
    "因此，式子\n",
    "$$\\mathrm{d}x=a\\mathrm{d}t+b\\mathrm{d}z$$ \n",
    "所示广义维纳过程的漂移率期望为$a$，方差率为$b^2$。"
   ]
  },
  {
   "cell_type": "markdown",
   "metadata": {},
   "source": [
    "### 伊藤过程\n",
    "\n",
    "伊藤过程是一种更为广义的维纳过程，其中$a$和$b$为变量$x$和时间$t$的函数。伊藤过程的表达式为：\n",
    "$$\\mathrm{d}x=a(x,t)\\mathrm{d}t+b(x,t)\\mathrm{d}z$$ \n",
    "在任意小的时间区间$t$与$t+\\Delta t$内，变量$x$变为$x+\\Delta x$，其中：\n",
    "$$\\Delta x=a(x,t)\\Delta t+b(x,t)\\varepsilon\\sqrt{\\Delta t}$$\n",
    "上式中，$x$的变化只依赖于$x$在时间$t$的值，而与其历史取值无关，所以这个过程具有马尔科夫性质。否则，如果$a$与$b$依赖于$x$在时间$t$之前的值，那么这样得到的过程将不再具有马尔科夫性质。"
   ]
  }
 ],
 "metadata": {
  "kernelspec": {
   "display_name": "Python 3",
   "language": "python",
   "name": "python3"
  },
  "language_info": {
   "codemirror_mode": {
    "name": "ipython",
    "version": 3
   },
   "file_extension": ".py",
   "mimetype": "text/x-python",
   "name": "python",
   "nbconvert_exporter": "python",
   "pygments_lexer": "ipython3",
   "version": "3.6.0"
  }
 },
 "nbformat": 4,
 "nbformat_minor": 2
}
