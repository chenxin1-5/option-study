{
 "cells": [
  {
   "cell_type": "markdown",
   "metadata": {
    "collapsed": true
   },
   "source": [
    "# Black Scholes 模型"
   ]
  },
  {
   "cell_type": "markdown",
   "metadata": {},
   "source": [
    "Black-Scholes模型是Fischer Black和Myron Scholes在1973的论文\"The Pricing of Options and Corporate Liabilities\"中提出的。自论文出版以来，这个模型成为了投资者广泛使用的工具。时至今日，它依然是确定期权公允价格的最好的方式之一。"
   ]
  },
  {
   "cell_type": "markdown",
   "metadata": {},
   "source": [
    "## 假设"
   ]
  },
  {
   "cell_type": "markdown",
   "metadata": {},
   "source": [
    "* 欧式期权之内在到期日行权\n",
    "* 在期权的生命周期内，没有股息分派\n",
    "* 市场走势不能被预测\n",
    "* 无风险利率和波动率为常数\n",
    "* 标的物的走势服从对数正态分布"
   ]
  },
  {
   "cell_type": "markdown",
   "metadata": {},
   "source": [
    "## 无股息 Black-Scholes 公式\n",
    "\n",
    "在Black-Schole公式中, 定义如下参数.\n",
    "\n",
    "* $S$, 在时间$t$时的资产价格\n",
    "* $T$, 期权到期时间. 期权的剩余时间定义为$T−t$\n",
    "* $K$, 期权行权价\n",
    "* $r$, 无风险收益率，假设在其在时间段$t$和$T$中为常量\n",
    "* $\\sigma$, 标的资产的波动率, 即标的资产回报的标准差"
   ]
  },
  {
   "cell_type": "markdown",
   "metadata": {},
   "source": [
    "### $N(d)$是服从正态分布的随机变量$Z$的积累分布函数"
   ]
  },
  {
   "cell_type": "markdown",
   "metadata": {},
   "source": [
    "$$N(d) = \\frac{1}{\\sqrt{2\\pi}} \\int_{-\\infty}^d e^{-\\frac{1}{2}x^2} dx$$"
   ]
  },
  {
   "cell_type": "markdown",
   "metadata": {},
   "source": [
    "$C(S,t)$是在时间$t$的看涨期权的价值；$P(S,t)$是在时间$t$的看跌期权的价值。"
   ]
  },
  {
   "cell_type": "markdown",
   "metadata": {},
   "source": [
    "Black-Scholes看涨期权公式是:\n",
    "\n",
    "$$C(S,t) = SN(d_1) - Ke^{-r(T - t)} N(d_2)$$\n",
    "\n",
    "看跌期权公式是：\n",
    "\n",
    "$$P(S,t) = Ke^{-r(T - t)}N(-d_2) - SN(-d_1)$$\n",
    "\n",
    "其中\n",
    "\n",
    "$$d_1 = \\frac{\\ln \\left(\\frac{S}{K} \\right) + \\left(r + \\frac{\\sigma^2}{2} \\right)(T - t)}{\\sigma \\sqrt{T - t}}$$\n",
    "\n",
    "$$d_2 = d_1 - \\sigma \\sqrt{T - t} = \\frac{\\ln \\left(\\frac{S}{K} \\right) + \\left(r - \\frac{\\sigma^2}{2}\\right)(T - t)}{\\sigma \\sqrt{T - t}}$$"
   ]
  },
  {
   "cell_type": "markdown",
   "metadata": {},
   "source": [
    "## 无股息Black-Scholes公式的Python实现"
   ]
  },
  {
   "cell_type": "code",
   "execution_count": 1,
   "metadata": {},
   "outputs": [],
   "source": [
    "import numpy as np\n",
    "import scipy.stats as si\n",
    "import sympy as sy\n",
    "import sympy.stats as systats\n",
    "sy.init_printing()"
   ]
  },
  {
   "cell_type": "code",
   "execution_count": 2,
   "metadata": {},
   "outputs": [],
   "source": [
    "def euro_call(S, K, T, r, sigma):\n",
    "    \n",
    "    #S: spot price\n",
    "    #K: strike price\n",
    "    #T: time to maturity\n",
    "    #r: interest rate\n",
    "    #sigma: volatility of underlying asset\n",
    "    \n",
    "    N = systats.Normal(\"x\", 0.0, 1.0)\n",
    "    \n",
    "    d1 = (sy.ln(S / K) + (r + 0.5 * sigma ** 2) * T) / (sigma * sy.sqrt(T))\n",
    "    d2 = (sy.ln(S / K) + (r - 0.5 * sigma ** 2) * T) / (sigma * sy.sqrt(T))\n",
    "    \n",
    "    call = (S * systats.cdf(N)(d1) - K * sy.exp(-r * T) * systats.cdf(N)(d2))\n",
    "    \n",
    "    return call"
   ]
  },
  {
   "cell_type": "code",
   "execution_count": 3,
   "metadata": {},
   "outputs": [],
   "source": [
    "def euro_put(S, K, T, r, sigma):\n",
    "    \n",
    "    #S: spot price\n",
    "    #K: strike price\n",
    "    #T: time to maturity\n",
    "    #r: interest rate\n",
    "    #sigma: volatility of underlying asset\n",
    "    \n",
    "    N = systats.Normal(\"x\", 0.0, 1.0)\n",
    "    \n",
    "    d1 = (sy.ln(S / K) + (r + 0.5 * sigma ** 2) * T) / (sigma * sy.sqrt(T))\n",
    "    d2 = (sy.ln(S / K) + (r - 0.5 * sigma ** 2) * T) / (sigma * sy.sqrt(T))\n",
    "    \n",
    "    put = (K * sy.exp(-r * T) * systats.cdf(N)(-d2) - S * systats.cdf(N)(-d1))\n",
    "    \n",
    "    return put"
   ]
  },
  {
   "cell_type": "markdown",
   "metadata": {},
   "source": [
    "测试一下"
   ]
  },
  {
   "cell_type": "code",
   "execution_count": 4,
   "metadata": {},
   "outputs": [
    {
     "data": {
      "image/png": "[encoded data removed]",
      "text/latex": [
       "$$- 25 \\operatorname{erf}{\\left (1.22379436111989 \\sqrt{2} \\right )} - 22.5614712250357 + 47.5614712250357 \\operatorname{erf}{\\left (1.34879436111989 \\sqrt{2} \\right )}$$"
      ],
      "text/plain": [
       "-25⋅erf(1.22379436111989⋅√2) - 22.5614712250357 + 47.5614712250357⋅erf(1.34879\n",
       "436111989⋅√2)"
      ]
     },
     "execution_count": 4,
     "metadata": {},
     "output_type": "execute_result"
    }
   ],
   "source": [
    "euro_call(50, 100, 1, 0.05, 0.25)"
   ]
  },
  {
   "cell_type": "code",
   "execution_count": 5,
   "metadata": {},
   "outputs": [
    {
     "data": {
      "image/png": "[encoded data removed]",
      "text/latex": [
       "$$0.0273525093694364$$"
      ],
      "text/plain": [
       "0.0273525093694364"
      ]
     },
     "execution_count": 5,
     "metadata": {},
     "output_type": "execute_result"
    }
   ],
   "source": [
    "euro_call(50, 100, 1, 0.05, 0.25).evalf()"
   ]
  },
  {
   "cell_type": "markdown",
   "metadata": {},
   "source": [
    "### 符号计算扩展"
   ]
  },
  {
   "cell_type": "code",
   "execution_count": 6,
   "metadata": {},
   "outputs": [],
   "source": [
    "S, K, T, t, r, sigma = sy.symbols(\"S K T t r sigma\")\n",
    "call_price = euro_call(S, K, T-t, r, sigma)"
   ]
  },
  {
   "cell_type": "markdown",
   "metadata": {},
   "source": [
    "#### Delta\n",
    "$$\\Delta = \\frac{\\partial V}{\\partial S}$$"
   ]
  },
  {
   "cell_type": "code",
   "execution_count": 7,
   "metadata": {
    "scrolled": true
   },
   "outputs": [],
   "source": [
    "delta = sy.diff(call_price, S)"
   ]
  },
  {
   "cell_type": "markdown",
   "metadata": {},
   "source": [
    "#### Gamma\n",
    "$$\\Gamma = \\frac{\\partial^2 V}{\\partial S^2}$$"
   ]
  },
  {
   "cell_type": "code",
   "execution_count": 8,
   "metadata": {},
   "outputs": [],
   "source": [
    "gamma = sy.diff(call_price, S, 2)"
   ]
  },
  {
   "cell_type": "markdown",
   "metadata": {},
   "source": [
    "#### Theta\n",
    "$$\\Theta = \\frac{\\partial V}{\\partial t}$$"
   ]
  },
  {
   "cell_type": "code",
   "execution_count": 9,
   "metadata": {},
   "outputs": [],
   "source": [
    "theta = sy.diff(call_price, t)"
   ]
  },
  {
   "cell_type": "markdown",
   "metadata": {},
   "source": [
    "## 图像"
   ]
  },
  {
   "cell_type": "code",
   "execution_count": 10,
   "metadata": {},
   "outputs": [],
   "source": [
    "import matplotlib\n",
    "import matplotlib.pyplot as plt"
   ]
  },
  {
   "cell_type": "code",
   "execution_count": 11,
   "metadata": {},
   "outputs": [
    {
     "data": {
      "image/png": "[encoded data removed]",
      "text/plain": [
       "<Figure size 432x288 with 1 Axes>"
      ]
     },
     "metadata": {
      "needs_background": "light"
     },
     "output_type": "display_data"
    }
   ],
   "source": [
    "# Data for plotting\n",
    "s = np.arange(40.0, 200.0, 0.1)\n",
    "c = []\n",
    "for s_i in s:\n",
    "    c.append(euro_call(s_i, 100, 0.5, 0.05, 0.25).evalf())\n",
    "\n",
    "fig, ax = plt.subplots()\n",
    "ax.plot(s, c)\n",
    "\n",
    "ax.set(xlabel='S', ylabel='C',\n",
    "       title='Call value of S')\n",
    "ax.grid()\n",
    "\n",
    "plt.show()"
   ]
  },
  {
   "cell_type": "markdown",
   "metadata": {},
   "source": [
    "## 原文\n",
    "[Black-Scholes Formula and Python Implementation](https://aaronschlegel.me/black-scholes-formula-python.html)"
   ]
  }
 ],
 "metadata": {
  "kernelspec": {
   "display_name": "Python 3",
   "language": "python",
   "name": "python3"
  },
  "language_info": {
   "codemirror_mode": {
    "name": "ipython",
    "version": 3
   },
   "file_extension": ".py",
   "mimetype": "text/x-python",
   "name": "python",
   "nbconvert_exporter": "python",
   "pygments_lexer": "ipython3",
   "version": "3.6.0"
  }
 },
 "nbformat": 4,
 "nbformat_minor": 2
}
