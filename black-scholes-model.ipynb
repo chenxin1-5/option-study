{
  "cells": [
    {
      "metadata": {
        "collapsed": true
      },
      "cell_type": "markdown",
      "source": "# Black Scholes 模型"
    },
    {
      "metadata": {},
      "cell_type": "markdown",
      "source": "Black-Scholes模型是Fischer Black和Myron Scholes在1973的论文\"The Pricing of Options and Corporate Liabilities\"中提出的。自论文出版以来，这个模型成为了投资者广泛使用的工具。时至今日，它依然是确定期权公允价格的最好的方式之一。"
    },
    {
      "metadata": {},
      "cell_type": "markdown",
      "source": "## 假设"
    },
    {
      "metadata": {},
      "cell_type": "markdown",
      "source": "* 欧式期权之内在到期日行权\n* 在期权的生命周期内，没有股息分派\n* 市场走势不能被预测\n* 无风险利率和波动率为常数\n* 标的物的走势服从对数正态分布"
    },
    {
      "metadata": {},
      "cell_type": "markdown",
      "source": "## 无股息 Black-Scholes 公式\n\n在Black-Schole公式中, 定义如下参数.\n\n* $S$, 在时间$t$时的资产价格\n* $T$, 期权到期时间. 期权的剩余时间定义为$T−t$\n* $K$, 期权行权价\n* $r$, 无风险收益率，假设在其在时间段$t$和$T$中为常量\n* $\\sigma$, 标的资产的波动率, 即标的资产回报的标准差"
    },
    {
      "metadata": {},
      "cell_type": "markdown",
      "source": "### $N(d)$是服从正态分布的随机变量$Z$的积累分布函数"
    },
    {
      "metadata": {},
      "cell_type": "markdown",
      "source": "$$N(d) = \\frac{1}{\\sqrt{2\\pi}} \\int_{-\\infty}^d e^{-\\frac{1}{2}x^2} dx$$"
    },
    {
      "metadata": {},
      "cell_type": "markdown",
      "source": "$C(S,t)$是在时间$t$的看涨期权的价值；$P(S,t)$是在时间$t$的看跌期权的价值。"
    },
    {
      "metadata": {},
      "cell_type": "markdown",
      "source": "Black-Scholes看涨期权公式是:\n\n$$C(S,t) = SN(d_1) - Ke^{-r(T - t)} N(d_2)$$\n\n看跌期权公式是：\n\n$$P(S,t) = Ke^{-r(T - t)}N(-d_2) - SN(-d_1)$$\n\n其中\n\n$$d_1 = \\frac{\\ln \\left(\\frac{S}{K} \\right) + \\left(r + \\frac{\\sigma^2}{2} \\right)(T - t)}{\\sigma \\sqrt{T - t}}$$\n\n$$d_2 = d_1 - \\sigma \\sqrt{T - t} = \\frac{\\ln \\left(\\frac{S}{K} \\right) + \\left(r - \\frac{\\sigma^2}{2}\\right)(T - t)}{\\sigma \\sqrt{T - t}}$$"
    },
    {
      "metadata": {
        "trusted": true
      },
      "cell_type": "markdown",
      "source": "## 无股息Black-Scholes公式的Python实现"
    },
    {
      "metadata": {
        "trusted": true
      },
      "cell_type": "code",
      "source": "import numpy as np\nimport scipy.stats as si\nimport sympy as sy\nimport sympy.stats as systats\nsy.init_printing()",
      "execution_count": 14,
      "outputs": []
    },
    {
      "metadata": {
        "trusted": true
      },
      "cell_type": "code",
      "source": "def euro_call(S, K, T, r, sigma):\n    \n    #S: spot price\n    #K: strike price\n    #T: time to maturity\n    #r: interest rate\n    #sigma: volatility of underlying asset\n    \n    N = systats.Normal(\"x\", 0.0, 1.0)\n    \n    d1 = (sy.ln(S / K) + (r + 0.5 * sigma ** 2) * T) / (sigma * sy.sqrt(T))\n    d2 = (sy.ln(S / K) + (r - 0.5 * sigma ** 2) * T) / (sigma * sy.sqrt(T))\n    \n    call = (S * systats.cdf(N)(d1) - K * sy.exp(-r * T) * systats.cdf(N)(d2))\n    \n    return call",
      "execution_count": 15,
      "outputs": []
    },
    {
      "metadata": {
        "trusted": true
      },
      "cell_type": "code",
      "source": "def euro_put(S, K, T, r, sigma):\n    \n    #S: spot price\n    #K: strike price\n    #T: time to maturity\n    #r: interest rate\n    #sigma: volatility of underlying asset\n    \n    N = systats.Normal(\"x\", 0.0, 1.0)\n    \n    d1 = (sy.ln(S / K) + (r + 0.5 * sigma ** 2) * T) / (sigma * sy.sqrt(T))\n    d2 = (sy.ln(S / K) + (r - 0.5 * sigma ** 2) * T) / (sigma * sy.sqrt(T))\n    \n    put = (K * sy.exp(-r * T) * systats.cdf(N)(-d2) - S * systats.cdf(N)(-d1))\n    \n    return put",
      "execution_count": 16,
      "outputs": []
    },
    {
      "metadata": {},
      "cell_type": "markdown",
      "source": "测试一下"
    },
    {
      "metadata": {
        "trusted": true
      },
      "cell_type": "code",
      "source": "euro_call(50, 100, 1, 0.05, 0.25)",
      "execution_count": 18,
      "outputs": [
        {
          "output_type": "execute_result",
          "execution_count": 18,
          "data": {
            "image/png": "[encoded data removed]",
            "text/latex": "$$- 25 \\operatorname{erf}{\\left (1.22379436111989 \\sqrt{2} \\right )} - 22.5614712250357 + 47.5614712250357 \\operatorname{erf}{\\left (1.34879436111989 \\sqrt{2} \\right )}$$",
            "text/plain": "-25⋅erf(1.22379436111989⋅√2) - 22.5614712250357 + 47.5614712250357⋅erf(1.34879\n436111989⋅√2)"
          },
          "metadata": {}
        }
      ]
    },
    {
      "metadata": {
        "trusted": true
      },
      "cell_type": "code",
      "source": "euro_call(50, 100, 1, 0.05, 0.25).evalf()",
      "execution_count": 21,
      "outputs": [
        {
          "output_type": "execute_result",
          "execution_count": 21,
          "data": {
            "image/png": "[encoded data removed]",
            "text/latex": "$$0.0273525093694364$$",
            "text/plain": "0.0273525093694364"
          },
          "metadata": {}
        }
      ]
    },
    {
      "metadata": {},
      "cell_type": "markdown",
      "source": "## 图像"
    },
    {
      "metadata": {
        "trusted": true
      },
      "cell_type": "code",
      "source": "import matplotlib\nimport matplotlib.pyplot as plt",
      "execution_count": 23,
      "outputs": []
    },
    {
      "metadata": {
        "trusted": true
      },
      "cell_type": "code",
      "source": "# Data for plotting\ns = np.arange(40.0, 200.0, 0.1)\nc = []\nfor s_i in s:\n    c.append(euro_call(s_i, 100, 0.5, 0.05, 0.25).evalf())\n\nfig, ax = plt.subplots()\nax.plot(s, c)\n\nax.set(xlabel='S', ylabel='C',\n       title='Call value of S')\nax.grid()\n\nplt.show()",
      "execution_count": 31,
      "outputs": [
        {
          "output_type": "display_data",
          "data": {
            "image/png": "[encoded data removed]",
            "text/plain": "<Figure size 432x288 with 1 Axes>"
          },
          "metadata": {
            "needs_background": "light"
          }
        }
      ]
    },
    {
      "metadata": {},
      "cell_type": "markdown",
      "source": "## 原文\n[Black-Scholes Formula and Python Implementation](https://aaronschlegel.me/black-scholes-formula-python.html)"
    }
  ],
  "metadata": {
    "kernelspec": {
      "name": "python36",
      "display_name": "Python 3.6",
      "language": "python"
    },
    "language_info": {
      "mimetype": "text/x-python",
      "nbconvert_exporter": "python",
      "name": "python",
      "pygments_lexer": "ipython3",
      "version": "3.6.6",
      "file_extension": ".py",
      "codemirror_mode": {
        "version": 3,
        "name": "ipython"
      }
    }
  },
  "nbformat": 4,
  "nbformat_minor": 2
}